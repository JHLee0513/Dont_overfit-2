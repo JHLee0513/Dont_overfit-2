{
 "cells": [
  {
   "cell_type": "code",
   "execution_count": 2,
   "metadata": {},
   "outputs": [
    {
     "data": {
      "text/plain": [
       "11"
      ]
     },
     "execution_count": 2,
     "metadata": {},
     "output_type": "execute_result"
    }
   ],
   "source": [
    "#!pip install xgboost\n",
    "from xgboost import XGBClassifier\n",
    "from sklearn.feature_selection import RFE\n",
    "import matplotlib.pyplot as plt\n",
    "import pandas as pd\n",
    "import numpy as np\n",
    "from boruta import BorutaPy\n",
    "from sklearn.model_selection import train_test_split, StratifiedKFold, KFold, cross_val_score, GridSearchCV, RepeatedStratifiedKFold\n",
    "from sklearn.preprocessing import StandardScaler,MinMaxScaler, RobustScaler\n",
    "from sklearn.feature_selection import SelectFromModel\n",
    "from sklearn import model_selection\n",
    "from sklearn.feature_selection import RFECV\n",
    "from sklearn.metrics import accuracy_score, roc_auc_score\n",
    "from eli5.sklearn import PermutationImportance\n",
    "from sklearn import linear_model\n",
    "from sklearn.ensemble import RandomForestClassifier\n",
    "from sklearn.model_selection import StratifiedShuffleSplit, GridSearchCV\n",
    "from sklearn.metrics import mean_squared_error, mean_absolute_error, roc_auc_score, r2_score, make_scorer\n",
    "from sklearn.metrics.pairwise import cosine_similarity, euclidean_distances\n",
    "from sklearn.svm import SVC\n",
    "from sklearn import linear_model\n",
    "import eli5\n",
    "import gc\n",
    "gc.enable()\n",
    "gc.collect()"
   ]
  },
  {
   "cell_type": "code",
   "execution_count": 5,
   "metadata": {},
   "outputs": [],
   "source": [
    "# some heuristic settings\n",
    "rfe_min_features = 15\n",
    "rfe_step = 15\n",
    "rfe_cv = 20\n",
    "sss_n_splits = 20\n",
    "sss_test_size = 0.25\n",
    "grid_search_cv = 20\n",
    "r2_threshold = 0.185\n",
    "random_seed = None\n",
    "noise_std = 0.01\n",
    "\n",
    "# import data\n",
    "train = pd.read_csv(\"/Users/JoonH/dont-overfit-ii/train.csv\")\n",
    "train_y = train['target']\n",
    "train_X = train.drop(['id','target'], axis=1).values\n",
    "\n",
    "test = pd.read_csv(\"/Users/JoonH/dont-overfit-ii/test.csv\")\n",
    "test = test.drop(['id'], axis=1).values\n",
    "\n",
    "# scale using RobustScaler\n",
    "# fitting scaler on full data outperforms fitting on test_X only (+0.006 kaggle score)\n",
    "data = RobustScaler().fit_transform(np.concatenate((train_X, test), axis=0))\n",
    "#data = StandardScaler().fit_transform(np.concatenate((train_X, test), axis=0))\n",
    "train_X = data[:250]\n",
    "test = data[250:]\n",
    "\n",
    "# add a bit of noise to train_X to reduce overfitting\n",
    "train_X += np.random.normal(0, noise_std, train_X.shape)\n",
    "\n"
   ]
  },
  {
   "cell_type": "code",
   "execution_count": null,
   "metadata": {},
   "outputs": [
    {
     "name": "stdout",
     "output_type": "stream",
     "text": [
      "counter | val_mse  |  val_mae  |  val_roc  |  val_cos  |  val_dist  |  val_r2    | feature_count \n",
      "-------------------------------------------------------------------------------------------------\n"
     ]
    }
   ],
   "source": [
    "# define roc_auc_metric robust to only one class in y_pred\n",
    "def scoring_roc_auc(y, y_pred):\n",
    "    try:\n",
    "        return roc_auc_score(y, y_pred)\n",
    "    except:\n",
    "        return 0.5\n",
    "\n",
    "robust_roc_auc = make_scorer(scoring_roc_auc)\n",
    "\n",
    "#model = LogisticRegression(penalty='l1', tol=0.0001, C=0.1, fit_intercept=False, intercept_scaling=1, class_weight='balanced', random_state=213, max_iter=1000)\n",
    "model = XGBClassifier()\n",
    "param_grid = {\n",
    "            'max_depth' : [2, 3, 5],\n",
    "            'learning_rate' : [0.001,0.005,0.01, 0.05, 0.1, 0.5],\n",
    "            'n_estimators' : [25,50,100,250,500,750,1000],\n",
    "            'booster' : ['gbtree', 'gblinear', 'dart']\n",
    "        }\n",
    "\n",
    "\n",
    "# define recursive elimination feature selector\n",
    "feature_selector = RFECV(model, min_features_to_select=rfe_min_features, scoring=robust_roc_auc, step=rfe_step, verbose=0, cv=rfe_cv, n_jobs=-1)\n",
    "\n",
    "print(\"counter | val_mse  |  val_mae  |  val_roc  |  val_cos  |  val_dist  |  val_r2    | feature_count \")\n",
    "print(\"-------------------------------------------------------------------------------------------------\")\n",
    "\n",
    "predictions = pd.DataFrame()\n",
    "counter = 0\n",
    "# split training data to build one model on each traing-data-subset\n",
    "# TODO: turn this into a method to ensemble different models\n",
    "for train_index, val_index in StratifiedShuffleSplit(n_splits=sss_n_splits, test_size=sss_test_size, random_state=random_seed).split(train_X, train_y):\n",
    "    X, val_X = train_X[train_index], train_X[val_index]\n",
    "    y, val_y = train_y[train_index], train_y[val_index]\n",
    "\n",
    "    # get the best features for this data set\n",
    "    feature_selector.fit(X, y)\n",
    "    # remove irrelevant features from X, val_X and test\n",
    "    X_important_features        = feature_selector.transform(X)\n",
    "    val_X_important_features    = feature_selector.transform(val_X)\n",
    "    test_important_features     = feature_selector.transform(test)\n",
    "\n",
    "    # run grid search to find the best Lasso parameters for this subset of training data and subset of features \n",
    "    grid_search = GridSearchCV(feature_selector.estimator_, param_grid=param_grid, verbose=0, n_jobs=-1, scoring=robust_roc_auc, cv=20, iid = False)\n",
    "    grid_search.fit(X_important_features, y)\n",
    "\n",
    "    # score our fitted model on validation data\n",
    "    val_y_pred = grid_search.best_estimator_.predict(val_X_important_features)\n",
    "    val_mse = mean_squared_error(val_y, val_y_pred)\n",
    "    val_mae = mean_absolute_error(val_y, val_y_pred)\n",
    "    val_roc = roc_auc_score(val_y, val_y_pred)\n",
    "    val_cos = cosine_similarity(val_y.values.reshape(1, -1), val_y_pred.reshape(1, -1))[0][0]\n",
    "    val_dst = euclidean_distances(val_y.values.reshape(1, -1), val_y_pred.reshape(1, -1))[0][0]\n",
    "    val_r2  = r2_score(val_y, val_y_pred)\n",
    "\n",
    "    # if model did well on validation, save its prediction on test data, using only important features\n",
    "    # r2_threshold (0.185) is a heuristic threshold for r2 error\n",
    "    # you can use any other metric/metric combination that works for you\n",
    "    if val_r2 > r2_threshold:\n",
    "        message = '<-- OK'\n",
    "        prediction = grid_search.best_estimator_.predict(test_important_features)\n",
    "        predictions = pd.concat([predictions, pd.DataFrame(prediction)], axis=1)\n",
    "    else:\n",
    "        message = '<-- skipping'\n",
    "\n",
    "\n",
    "    print(\"{0:2}      | {1:.4f}   |  {2:.4f}   |  {3:.4f}   |  {4:.4f}   |  {5:.4f}    |  {6:.4f}    |  {7:3}         {8}  \".format(counter, val_mse, val_mae, val_roc, val_cos, val_dst, val_r2, feature_selector.n_features_, message))\n",
    "    \n",
    "    counter += 1\n",
    "\n",
    "print(\"-------------------------------------------------------------------------------------------------\")\n",
    "print(\"{}/{} models passed validation threshold and will be ensembled.\".format(len(predictions.columns), sss_n_splits))\n",
    "\n",
    "mean_pred = pd.DataFrame(predictions.mean(axis=1))\n",
    "mean_pred.index += 250\n",
    "mean_pred.columns = ['target']\n",
    "mean_pred.to_csv('dont_overfit2_xgb_robust.csv', index_label='id', index=True)        \n",
    "       "
   ]
  },
  {
   "cell_type": "code",
   "execution_count": null,
   "metadata": {},
   "outputs": [],
   "source": []
  },
  {
   "cell_type": "code",
   "execution_count": null,
   "metadata": {},
   "outputs": [],
   "source": []
  }
 ],
 "metadata": {
  "kernelspec": {
   "display_name": "Python 3",
   "language": "python",
   "name": "python3"
  },
  "language_info": {
   "codemirror_mode": {
    "name": "ipython",
    "version": 3
   },
   "file_extension": ".py",
   "mimetype": "text/x-python",
   "name": "python",
   "nbconvert_exporter": "python",
   "pygments_lexer": "ipython3",
   "version": "3.6.7"
  }
 },
 "nbformat": 4,
 "nbformat_minor": 2
}
