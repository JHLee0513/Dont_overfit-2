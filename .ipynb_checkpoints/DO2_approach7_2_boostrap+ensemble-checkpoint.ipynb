{
 "cells": [
  {
   "cell_type": "code",
   "execution_count": 1,
   "metadata": {},
   "outputs": [
    {
     "data": {
      "text/plain": [
       "0"
      ]
     },
     "execution_count": 1,
     "metadata": {},
     "output_type": "execute_result"
    }
   ],
   "source": [
    "#!pip install xgboost\n",
    "from sklearn.feature_selection import RFE\n",
    "import matplotlib.pyplot as plt\n",
    "import cv2\n",
    "import pandas as pd\n",
    "import numpy as np\n",
    "from boruta import BorutaPy\n",
    "from sklearn.model_selection import train_test_split, StratifiedKFold, KFold, cross_val_score, GridSearchCV, RepeatedStratifiedKFold\n",
    "from sklearn.preprocessing import StandardScaler,MinMaxScaler, RobustScaler\n",
    "from sklearn.feature_selection import SelectFromModel\n",
    "from sklearn import model_selection\n",
    "from sklearn.feature_selection import RFECV\n",
    "from sklearn.metrics import accuracy_score, roc_auc_score\n",
    "from eli5.sklearn import PermutationImportance\n",
    "from sklearn import linear_model\n",
    "from sklearn.ensemble import RandomForestClassifier\n",
    "from sklearn.model_selection import StratifiedShuffleSplit, GridSearchCV\n",
    "from sklearn.metrics import mean_squared_error, mean_absolute_error, roc_auc_score, r2_score, make_scorer\n",
    "from sklearn.metrics.pairwise import cosine_similarity, euclidean_distances\n",
    "from sklearn.svm import SVC\n",
    "import featuretools as ft\n",
    "import json\n",
    "import ast\n",
    "import time\n",
    "from sklearn import linear_model\n",
    "import eli5\n",
    "import gc\n",
    "gc.enable()\n",
    "gc.collect()"
   ]
  },
  {
   "cell_type": "code",
   "execution_count": 2,
   "metadata": {},
   "outputs": [
    {
     "data": {
      "text/html": [
       "<div>\n",
       "<style scoped>\n",
       "    .dataframe tbody tr th:only-of-type {\n",
       "        vertical-align: middle;\n",
       "    }\n",
       "\n",
       "    .dataframe tbody tr th {\n",
       "        vertical-align: top;\n",
       "    }\n",
       "\n",
       "    .dataframe thead th {\n",
       "        text-align: right;\n",
       "    }\n",
       "</style>\n",
       "<table border=\"1\" class=\"dataframe\">\n",
       "  <thead>\n",
       "    <tr style=\"text-align: right;\">\n",
       "      <th></th>\n",
       "      <th>id</th>\n",
       "      <th>target</th>\n",
       "    </tr>\n",
       "  </thead>\n",
       "  <tbody>\n",
       "    <tr>\n",
       "      <th>0</th>\n",
       "      <td>250</td>\n",
       "      <td>0.731166</td>\n",
       "    </tr>\n",
       "    <tr>\n",
       "      <th>1</th>\n",
       "      <td>251</td>\n",
       "      <td>0.516686</td>\n",
       "    </tr>\n",
       "    <tr>\n",
       "      <th>2</th>\n",
       "      <td>252</td>\n",
       "      <td>0.616666</td>\n",
       "    </tr>\n",
       "    <tr>\n",
       "      <th>3</th>\n",
       "      <td>253</td>\n",
       "      <td>0.793805</td>\n",
       "    </tr>\n",
       "    <tr>\n",
       "      <th>4</th>\n",
       "      <td>254</td>\n",
       "      <td>0.544886</td>\n",
       "    </tr>\n",
       "  </tbody>\n",
       "</table>\n",
       "</div>"
      ],
      "text/plain": [
       "    id    target\n",
       "0  250  0.731166\n",
       "1  251  0.516686\n",
       "2  252  0.616666\n",
       "3  253  0.793805\n",
       "4  254  0.544886"
      ]
     },
     "execution_count": 2,
     "metadata": {},
     "output_type": "execute_result"
    }
   ],
   "source": [
    "# Get our ensembled data of 0.869 from original appraoch 7\n",
    "test_labels = pd.read_csv(\"/Users/JoonH/dont_overfit_2_ensemble1.csv\")\n",
    "test_labels.head()"
   ]
  },
  {
   "cell_type": "code",
   "execution_count": 3,
   "metadata": {},
   "outputs": [],
   "source": [
    "def round(x):\n",
    "    if (x >= 0.5) : x = 1\n",
    "    else : x = 0\n",
    "    return x\n",
    "\n",
    "test_labels['label'] = [round(x) for x in test_labels['target']]"
   ]
  },
  {
   "cell_type": "code",
   "execution_count": 4,
   "metadata": {},
   "outputs": [],
   "source": [
    "train_df = pd.read_csv(\"/Users/JoonH/dont-overfit-ii/train.csv\")\n",
    "test_df = pd.read_csv(\"/Users/JoonH/dont-overfit-ii/test.csv\")"
   ]
  },
  {
   "cell_type": "code",
   "execution_count": 5,
   "metadata": {},
   "outputs": [],
   "source": [
    "x_train = train_df.drop(['target','id'],axis=1)\n",
    "y_train = train_df['target']\n",
    "x_test = test_df.drop(['id'],axis=1)\n",
    "x_train = np.concatenate([x_train,x_test[:250:2]], axis = 0)\n",
    "y_train = np.concatenate([y_train,test_labels['label'][:250:2]], axis = 0)\n",
    "\n",
    "n_fold = 20\n",
    "folds = StratifiedKFold(n_splits=n_fold, shuffle=True, random_state=42)"
   ]
  },
  {
   "cell_type": "code",
   "execution_count": 6,
   "metadata": {},
   "outputs": [
    {
     "name": "stdout",
     "output_type": "stream",
     "text": [
      "(375, 300) (375,) (19750, 300)\n"
     ]
    }
   ],
   "source": [
    "print(x_train.shape, y_train.shape, x_test.shape)"
   ]
  },
  {
   "cell_type": "code",
   "execution_count": 33,
   "metadata": {},
   "outputs": [],
   "source": [
    "#scaler = StandardScaler()\n",
    "#x_train = scaler.fit_transform(x_train)\n",
    "#x_test = scaler.transform(x_test)"
   ]
  },
  {
   "cell_type": "code",
   "execution_count": 7,
   "metadata": {},
   "outputs": [],
   "source": [
    "# fitting to entire dataset for scaling instead of train\n",
    "scaler = RobustScaler().fit(x_train)\n",
    "x_train = scaler.transform(x_train)\n",
    "x_test = scaler.transform(x_test)"
   ]
  },
  {
   "cell_type": "code",
   "execution_count": 8,
   "metadata": {},
   "outputs": [],
   "source": [
    "# Adding noise to prevent overfitting\n",
    "noise_std = 0.01\n",
    "x_train += np.random.normal(0, noise_std, x_train.shape)"
   ]
  },
  {
   "cell_type": "code",
   "execution_count": null,
   "metadata": {},
   "outputs": [
    {
     "name": "stdout",
     "output_type": "stream",
     "text": [
      "counter | val_mse  |  val_mae  |  val_roc  |  val_cos  |  val_dist  |  val_r2    | feature_count \n",
      "-------------------------------------------------------------------------------------------------\n"
     ]
    }
   ],
   "source": [
    "from xgboost import XGBClassifier\n",
    "def warn(*args, **kwargs):\n",
    "    pass\n",
    "import warnings\n",
    "warnings.warn = warn\n",
    "\n",
    "# some heuristic settings\n",
    "rfe_min_features = 12\n",
    "rfe_step = 15\n",
    "rfe_cv = 20\n",
    "sss_n_splits = 20\n",
    "sss_test_size = 0.35\n",
    "grid_search_cv = 20\n",
    "r2_threshold = 0.185\n",
    "random_seed = 213\n",
    "\n",
    "np.random.seed(random_seed)\n",
    "\n",
    "# define roc_auc_metric robust to only one class in y_pred\n",
    "def scoring_roc_auc(y, y_pred):\n",
    "    try:\n",
    "        return roc_auc_score(y, y_pred)\n",
    "    except:\n",
    "        return 0.5\n",
    "\n",
    "robust_roc_auc = make_scorer(scoring_roc_auc)\n",
    "\n",
    "# define model and its parameters\n",
    "'''model = XGBClassifier()\n",
    "param_grid = {\n",
    "            'max_depth' : [2, 3, 5],\n",
    "            'learning_rate' : [0.001,0.005,0.01, 0.05, 0.1, 0.5],\n",
    "            'n_estimators' : [25,50,100,250,500,750,1000],\n",
    "            'booster' : ['gbtree', 'gblinear', 'dart']\n",
    "        }'''\n",
    "\n",
    "model = linear_model.Lasso(alpha=0.031, tol=0.01, random_state=random_seed, selection='random')\n",
    "param_grid = {\n",
    "            'alpha' :  [0.019, 0.02, 0.021, 0.022, 0.023, 0.024, 0.025, 0.026, 0.027, 0.029, 0.031],\n",
    "            'tol'   :  [0.001, 0.0011, 0.0012, 0.0013, 0.0014, 0.0015, 0.0016, 0.0017],\n",
    "            'max_iter':[500, 750, 1000, 1250, 1500, 1750, 2000]\n",
    "}\n",
    "\n",
    "# define recursive elimination feature selector\n",
    "feature_selector = RFECV(model, min_features_to_select=rfe_min_features, scoring=robust_roc_auc, step=rfe_step, verbose=0, cv=rfe_cv, n_jobs=-1)\n",
    "print(\"counter | val_mse  |  val_mae  |  val_roc  |  val_cos  |  val_dist  |  val_r2    | feature_count \")\n",
    "print(\"-------------------------------------------------------------------------------------------------\")\n",
    "\n",
    "predictions = pd.DataFrame()\n",
    "counter = 0\n",
    "# split training data to build one model on each traing-data-subset\n",
    "# TODO: turn this into a method to ensemble different models\n",
    "for train_index, val_index in StratifiedShuffleSplit(n_splits=sss_n_splits, test_size=sss_test_size, random_state=random_seed).split(x_train, y_train):\n",
    "    X, val_X = x_train[train_index], x_train[val_index]\n",
    "    y, val_y = y_train[train_index], y_train[val_index]\n",
    "\n",
    "    # get the best features for this data set\n",
    "    feature_selector.fit(X, y)\n",
    "    # remove irrelevant features from X, val_X and test\n",
    "    X_important_features        = feature_selector.transform(X)\n",
    "    val_X_important_features    = feature_selector.transform(val_X)\n",
    "    test_important_features     = feature_selector.transform(x_test)\n",
    "\n",
    "    # run grid search to find the best Lasso parameters for this subset of training data and subset of features \n",
    "    grid_search = GridSearchCV(feature_selector.estimator_, param_grid=param_grid, verbose=0, n_jobs=-1, scoring=robust_roc_auc, cv=20)\n",
    "    grid_search.fit(X_important_features, y)\n",
    "\n",
    "    # score our fitted model on validation data\n",
    "    val_y_pred = grid_search.best_estimator_.predict(val_X_important_features)\n",
    "    val_mse = mean_squared_error(val_y, val_y_pred)\n",
    "    val_mae = mean_absolute_error(val_y, val_y_pred)\n",
    "    val_roc = roc_auc_score(val_y, val_y_pred)\n",
    "    val_cos = cosine_similarity(val_y.reshape(1, -1), val_y_pred.reshape(1, -1))[0][0]\n",
    "    val_dst = euclidean_distances(val_y.reshape(1, -1), val_y_pred.reshape(1, -1))[0][0]\n",
    "    val_r2  = r2_score(val_y, val_y_pred)\n",
    "\n",
    "    # if model did well on validation, save its prediction on test data, using only important features\n",
    "    # r2_threshold (0.185) is a heuristic threshold for r2 error\n",
    "    # you can use any other metric/metric combination that works for you\n",
    "    if val_r2 > r2_threshold:\n",
    "        message = '<-- OK'\n",
    "        prediction = grid_search.best_estimator_.predict(test_important_features)\n",
    "        predictions = pd.concat([predictions, pd.DataFrame(prediction)], axis=1)\n",
    "    else:\n",
    "        message = '<-- skipping'\n",
    "\n",
    "\n",
    "    print(\"{0:2}      | {1:.4f}   |  {2:.4f}   |  {3:.4f}   |  {4:.4f}   |  {5:.4f}    |  {6:.4f}    |  {7:3}         {8}  \".format(counter, val_mse, val_mae, val_roc, val_cos, val_dst, val_r2, feature_selector.n_features_, message))\n",
    "    \n",
    "    counter += 1\n",
    "\n",
    "print(\"-------------------------------------------------------------------------------------------------\")\n",
    "print(\"{}/{} models passed validation threshold and will be ensembled.\".format(len(predictions.columns), sss_n_splits))\n",
    "\n",
    "mean_pred = pd.DataFrame(predictions.mean(axis=1))\n",
    "mean_pred.index += 250\n",
    "mean_pred.columns = ['target']\n",
    "mean_pred.to_csv('do2_lasso_bootstrap_rfecv.csv', index_label='id', index=True)               "
   ]
  },
  {
   "cell_type": "code",
   "execution_count": 10,
   "metadata": {},
   "outputs": [],
   "source": [
    "def train_model(X, X_test, y, params, folds=folds, plot_feature_importance=False, averaging='usual', model=None):\n",
    "    oof = np.zeros(len(X))\n",
    "    prediction = np.zeros(len(X_test))\n",
    "    scores = []\n",
    "    feature_importance = pd.DataFrame()\n",
    "    for fold_n, (train_index, valid_index) in enumerate(folds.split(X, y)):\n",
    "        # print('Fold', fold_n, 'started at', time.ctime())\n",
    "        X_train, X_valid = X[train_index], X[valid_index]\n",
    "        y_train, y_valid = y[train_index], y[valid_index]\n",
    "        \n",
    "        model = model\n",
    "        model.fit(X_train, y_train)\n",
    "        y_pred_valid = model.predict(X_valid).reshape(-1,)\n",
    "        score = roc_auc_score(y_valid, y_pred_valid)\n",
    "        print(f'Fold {fold_n}. AUC: {score:.4f}.')\n",
    "        #print('')\n",
    "        \n",
    "        \n",
    "        \n",
    "        \n",
    "        y_pred = model.predict_proba(X_test)[:, 1]\n",
    "        oof[valid_index] = y_pred_valid.reshape(-1,)\n",
    "        scores.append(roc_auc_score(y_valid, y_pred_valid))\n",
    "        \n",
    "        if averaging == 'usual':\n",
    "            prediction += y_pred\n",
    "        elif averaging == 'rank':\n",
    "            prediction += pd.Series(y_pred).rank().values  \n",
    "\n",
    "    prediction /= n_fold\n",
    "    \n",
    "    print('CV mean score: {0:.4f}, std: {1:.4f}.'.format(np.mean(scores), np.std(scores)))\n",
    "    \n",
    "    return oof, prediction, scores"
   ]
  },
  {
   "cell_type": "code",
   "execution_count": 15,
   "metadata": {},
   "outputs": [
    {
     "name": "stdout",
     "output_type": "stream",
     "text": [
      "Fold 0. AUC: 0.8400.\n",
      "Fold 1. AUC: 0.8622.\n",
      "Fold 2. AUC: 0.8496.\n",
      "Fold 3. AUC: 0.8127.\n",
      "Fold 4. AUC: 0.8386.\n",
      "Fold 5. AUC: 0.8278.\n",
      "Fold 6. AUC: 0.8411.\n",
      "Fold 7. AUC: 0.8349.\n",
      "Fold 8. AUC: 0.8418.\n",
      "Fold 9. AUC: 0.8385.\n",
      "Fold 10. AUC: 0.8663.\n",
      "Fold 11. AUC: 0.8293.\n",
      "Fold 12. AUC: 0.8394.\n",
      "Fold 13. AUC: 0.8438.\n",
      "Fold 14. AUC: 0.8541.\n",
      "Fold 15. AUC: 0.8615.\n",
      "Fold 16. AUC: 0.8344.\n",
      "Fold 17. AUC: 0.8204.\n",
      "Fold 18. AUC: 0.8160.\n",
      "Fold 19. AUC: 0.8351.\n",
      "CV mean score: 0.8394, std: 0.0141.\n"
     ]
    }
   ],
   "source": [
    "model = XGBClassifier()\n",
    "oof_lr, prediction_lr, _ = train_model(x_train, x_test, y_train, params=None, model=model)"
   ]
  },
  {
   "cell_type": "code",
   "execution_count": 42,
   "metadata": {},
   "outputs": [
    {
     "name": "stdout",
     "output_type": "stream",
     "text": [
      "[0.99988404 0.71002326 0.98627719 0.99998455 0.76546374]\n"
     ]
    }
   ],
   "source": [
    "print(str(prediction_lr[:5]))"
   ]
  },
  {
   "cell_type": "code",
   "execution_count": 16,
   "metadata": {},
   "outputs": [],
   "source": [
    "results = prediction_lr\n",
    "predictions = pd.DataFrame(results, columns = ['target'])\n",
    "ids = test_df['id']\n",
    "predictions = pd.concat([ids, predictions], axis = 1, sort=False)\n",
    "predictions.to_csv('/Users/JoonH/dont_overfit_2_approach7_2_xgboost.csv',index = False)"
   ]
  },
  {
   "cell_type": "code",
   "execution_count": 50,
   "metadata": {},
   "outputs": [],
   "source": [
    "from sklearn.feature_selection import RFECV\n",
    "selector = RFECV(model,15,12, cv=StratifiedKFold(n_splits=n_fold, shuffle=True, random_state=42),scoring='roc_auc') \n",
    "selector = selector.fit(x_train,y_train)"
   ]
  },
  {
   "cell_type": "code",
   "execution_count": 51,
   "metadata": {},
   "outputs": [],
   "source": [
    "#list(selector.ranking_)[:30]"
   ]
  },
  {
   "cell_type": "code",
   "execution_count": 52,
   "metadata": {},
   "outputs": [
    {
     "name": "stdout",
     "output_type": "stream",
     "text": [
      "Optimal number of features : 105\n"
     ]
    },
    {
     "data": {
      "image/png": "[encoded data removed]",
      "text/plain": [
       "<Figure size 432x288 with 1 Axes>"
      ]
     },
     "metadata": {
      "needs_background": "light"
     },
     "output_type": "display_data"
    }
   ],
   "source": [
    "print(\"Optimal number of features : %d\" % selector.n_features_)\n",
    "\n",
    "# Plot number of features VS. cross-validation scores\n",
    "plt.figure()\n",
    "plt.xlabel(\"Number of features selected\")\n",
    "plt.ylabel(\"Cross validation score (nb of correct classifications)\")\n",
    "plt.plot(range(1, len(selector.grid_scores_) + 1), selector.grid_scores_)\n",
    "plt.show()"
   ]
  },
  {
   "cell_type": "code",
   "execution_count": 55,
   "metadata": {},
   "outputs": [],
   "source": [
    "predictions = selector.predict_proba(x_test)\n",
    "results = predictions[:,1]\n",
    "predictions = pd.DataFrame(results, columns = ['target'])\n",
    "ids = test_df['id']\n",
    "predictions = pd.concat([ids, predictions], axis = 1, sort=False)\n",
    "predictions.to_csv('/Users/JoonH/dont_overfit_2_approach3_2_RFECV+ensemble.csv',index = False)"
   ]
  },
  {
   "cell_type": "code",
   "execution_count": 62,
   "metadata": {},
   "outputs": [
    {
     "data": {
      "text/html": [
       "<div>\n",
       "<style scoped>\n",
       "    .dataframe tbody tr th:only-of-type {\n",
       "        vertical-align: middle;\n",
       "    }\n",
       "\n",
       "    .dataframe tbody tr th {\n",
       "        vertical-align: top;\n",
       "    }\n",
       "\n",
       "    .dataframe thead th {\n",
       "        text-align: right;\n",
       "    }\n",
       "</style>\n",
       "<table border=\"1\" class=\"dataframe\">\n",
       "  <thead>\n",
       "    <tr style=\"text-align: right;\">\n",
       "      <th></th>\n",
       "      <th>id</th>\n",
       "      <th>target</th>\n",
       "    </tr>\n",
       "  </thead>\n",
       "  <tbody>\n",
       "    <tr>\n",
       "      <th>0</th>\n",
       "      <td>250</td>\n",
       "      <td>0.999999</td>\n",
       "    </tr>\n",
       "    <tr>\n",
       "      <th>1</th>\n",
       "      <td>251</td>\n",
       "      <td>0.759850</td>\n",
       "    </tr>\n",
       "    <tr>\n",
       "      <th>2</th>\n",
       "      <td>252</td>\n",
       "      <td>0.999121</td>\n",
       "    </tr>\n",
       "    <tr>\n",
       "      <th>3</th>\n",
       "      <td>253</td>\n",
       "      <td>1.000000</td>\n",
       "    </tr>\n",
       "    <tr>\n",
       "      <th>4</th>\n",
       "      <td>254</td>\n",
       "      <td>0.860360</td>\n",
       "    </tr>\n",
       "  </tbody>\n",
       "</table>\n",
       "</div>"
      ],
      "text/plain": [
       "    id    target\n",
       "0  250  0.999999\n",
       "1  251  0.759850\n",
       "2  252  0.999121\n",
       "3  253  1.000000\n",
       "4  254  0.860360"
      ]
     },
     "execution_count": 62,
     "metadata": {},
     "output_type": "execute_result"
    }
   ],
   "source": [
    "predictions.head()"
   ]
  },
  {
   "cell_type": "code",
   "execution_count": 54,
   "metadata": {},
   "outputs": [
    {
     "data": {
      "text/plain": [
       "0.98435"
      ]
     },
     "execution_count": 54,
     "metadata": {},
     "output_type": "execute_result"
    }
   ],
   "source": [
    "selector.score(x_train,y_train)"
   ]
  },
  {
   "cell_type": "markdown",
   "metadata": {},
   "source": [
    "this gives us LB score of 0.869! So let's try ensembling it with the lasso approach"
   ]
  },
  {
   "cell_type": "code",
   "execution_count": 61,
   "metadata": {},
   "outputs": [
    {
     "data": {
      "text/plain": [
       "0    0.865583\n",
       "1    0.638268\n",
       "2    0.807894\n",
       "3    0.896903\n",
       "4    0.702623\n",
       "Name: target, dtype: float64"
      ]
     },
     "execution_count": 61,
     "metadata": {},
     "output_type": "execute_result"
    }
   ],
   "source": [
    "# ensemble previous with this\n",
    "new_predictions = pd.read_csv('/Users/JoonH/dont_overfit_2_ensemble1.csv')#['target'] * 0.5 + predictions * 0.5\n",
    "old_predictions = selector.predict_proba(x_test)\n",
    "new_predictions = new_predictions['target'] * 0.5 + old_predictions[:,1] * 0.5\n",
    "new_predictions.head()"
   ]
  },
  {
   "cell_type": "code",
   "execution_count": 64,
   "metadata": {},
   "outputs": [],
   "source": [
    "new_predictions = pd.DataFrame(new_predictions, columns = ['target'])\n",
    "ids = test_df['id']\n",
    "new_predictions = pd.concat([ids, new_predictions], axis = 1, sort=False)\n",
    "new_predictions.to_csv('/Users/JoonH/dont_overfit_2_approach3_2_RFECV+ensemble+ensemble.csv',index = False)"
   ]
  },
  {
   "cell_type": "markdown",
   "metadata": {},
   "source": [
    "This still gives us a score of 0.869, perhaps there is something flawed... let's first try bootstrapping the lasso "
   ]
  },
  {
   "cell_type": "code",
   "execution_count": null,
   "metadata": {},
   "outputs": [
    {
     "name": "stdout",
     "output_type": "stream",
     "text": [
      "counter | val_mse  |  val_mae  |  val_roc  |  val_cos  |  val_dist  |  val_r2    | feature_count \n",
      "-------------------------------------------------------------------------------------------------\n",
      " 0      | 0.1036   |  0.2751   |  0.9683   |  0.9265   |  26.9281    |  0.4774    |   45         <-- OK  \n"
     ]
    }
   ],
   "source": [
    "import sys, os\n",
    "import pandas as pd\n",
    "import numpy as np\n",
    "\n",
    "from sklearn.linear_model import Lasso, LogisticRegression, Ridge\n",
    "from sklearn.feature_selection import RFECV\n",
    "from sklearn.preprocessing import RobustScaler\n",
    "from sklearn.model_selection import StratifiedShuffleSplit, GridSearchCV\n",
    "from sklearn.metrics import mean_squared_error, mean_absolute_error, roc_auc_score, r2_score, make_scorer\n",
    "from sklearn.metrics.pairwise import cosine_similarity, euclidean_distances\n",
    "\n",
    "def warn(*args, **kwargs):\n",
    "    pass\n",
    "import warnings\n",
    "warnings.warn = warn\n",
    "\n",
    "# some heuristic settings\n",
    "rfe_min_features = 11\n",
    "rfe_step = 15\n",
    "rfe_cv = 20\n",
    "sss_n_splits = 20\n",
    "sss_test_size = 0.35\n",
    "grid_search_cv = 20\n",
    "noise_std = 0.012\n",
    "r2_threshold = 0.185\n",
    "random_seed = 213\n",
    "gridsearchCV = 20\n",
    "\n",
    "np.random.seed(random_seed)\n",
    "\n",
    "# define roc_auc_metric robust to only one class in y_pred\n",
    "def scoring_roc_auc(y, y_pred):\n",
    "    try:\n",
    "        return roc_auc_score(y, y_pred)\n",
    "    except:\n",
    "        return 0.5\n",
    "\n",
    "robust_roc_auc = make_scorer(scoring_roc_auc)\n",
    "\n",
    "\n",
    "def build_and_train_model(model = 'lasso'):\n",
    "    if model=='lasso':\n",
    "        model = Lasso(alpha=0.031, tol=0.01, random_state=random_seed, selection='random')\n",
    "        param_grid = {\n",
    "                    'alpha' :  [0.019, 0.02, 0.021, 0.022, 0.023, 0.024, 0.025, 0.026, 0.027, 0.029, 0.031],\n",
    "                    'tol'   :  [0.001, 0.0011, 0.0012, 0.0013, 0.0014, 0.0015, 0.0016, 0.0017],\n",
    "                    'max_iter':[500, 750, 1000, 1250, 1500, 1750, 2000]\n",
    "        }\n",
    "        \n",
    "        # define recursive elimination feature selector\n",
    "        feature_selector = RFECV(model, min_features_to_select=rfe_min_features, scoring=robust_roc_auc, step=rfe_step, verbose=0, cv=rfe_cv, n_jobs=-1)\n",
    "    print(\"counter | val_mse  |  val_mae  |  val_roc  |  val_cos  |  val_dist  |  val_r2    | feature_count \")\n",
    "    print(\"-------------------------------------------------------------------------------------------------\")\n",
    "\n",
    "    predictions = pd.DataFrame()\n",
    "    counter = 0\n",
    "    # split training data to build one model on each traing-data-subset\n",
    "\n",
    "    for train_index, val_index in StratifiedShuffleSplit(n_splits=sss_n_splits, test_size=sss_test_size, random_state=random_seed).split(x_train, y_train):\n",
    "        X, val_X = x_train[train_index], x_train[val_index]\n",
    "        y, val_y = y_train[train_index], y_train[val_index]\n",
    "\n",
    "        # get the best features for this data set\n",
    "        feature_selector.fit(X, y)\n",
    "        # remove irrelevant features from X, val_X and test\n",
    "        X_important_features        = feature_selector.transform(X)\n",
    "        val_X_important_features    = feature_selector.transform(val_X)\n",
    "        test_important_features     = feature_selector.transform(x_test)\n",
    "\n",
    "        # run grid search to find the best Lasso parameters for this subset of training data and subset of features \n",
    "        grid_search = GridSearchCV(feature_selector.estimator_, param_grid=param_grid, verbose=0, n_jobs=-1, scoring=robust_roc_auc, cv=gridsearchCV)\n",
    "        grid_search.fit(X_important_features, y)\n",
    "\n",
    "        # score our fitted model on validation data\n",
    "        val_y_pred = grid_search.best_estimator_.predict(val_X_important_features)\n",
    "        val_mse = mean_squared_error(val_y, val_y_pred)\n",
    "        val_mae = mean_absolute_error(val_y, val_y_pred)\n",
    "        val_roc = roc_auc_score(val_y, val_y_pred)\n",
    "        #val_cos = cosine_similarity(val_y.values.reshape(1, -1), val_y_pred.reshape(1, -1))[0][0]\n",
    "        val_cos = cosine_similarity(val_y.reshape(1, -1), val_y_pred.reshape(1, -1))[0][0]\n",
    "        \n",
    "        #val_dst = euclidean_distances(val_y.values.reshape(1, -1), val_y_pred.reshape(1, -1))[0][0]\n",
    "        val_dst = euclidean_distances(val_y.reshape(1, -1), val_y_pred.reshape(1, -1))[0][0]\n",
    "        val_r2  = r2_score(val_y, val_y_pred)\n",
    "\n",
    "        # if model did well on validation, save its prediction on test data, using only important features\n",
    "        # r2_threshold (0.185) is a heuristic threshold for r2 error\n",
    "        # you can use any other metric/metric combination that works for you\n",
    "        if val_r2 > r2_threshold:\n",
    "            message = '<-- OK'\n",
    "            prediction = grid_search.best_estimator_.predict(test_important_features)\n",
    "            predictions = pd.concat([predictions, pd.DataFrame(prediction)], axis=1)\n",
    "        else:\n",
    "            message = '<-- skipping'\n",
    "\n",
    "\n",
    "        print(\"{0:2}      | {1:.4f}   |  {2:.4f}   |  {3:.4f}   |  {4:.4f}   |  {5:.4f}    |  {6:.4f}    |  {7:3}         {8}  \".format(counter, val_mse, val_mae, val_roc, val_cos, val_dst, val_r2, feature_selector.n_features_, message))\n",
    "    \n",
    "        counter += 1\n",
    "\n",
    "    print(\"-------------------------------------------------------------------------------------------------\")\n",
    "    print(\"{}/{} models passed validation threshold and will be ensembled.\".format(len(predictions.columns), sss_n_splits))\n",
    "\n",
    "    return predictions\n",
    "predictions = build_and_train_model()\n",
    "mean_pred = pd.DataFrame(predictions.mean(axis=1))\n",
    "mean_pred.index += 250\n",
    "mean_pred.columns = ['target']\n",
    "mean_pred.to_csv('lasso_boostrap_submission.csv', index_label='id', index=True)        \n",
    "       \n",
    "# Liked the kernel?\n",
    "# Replace Lasso with other regressors, play with heuristics and let us all know the results!\n",
    "# Please leave a comment if you found this Kerlen useful. I would like to learn from you too!\n",
    "\n"
   ]
  },
  {
   "cell_type": "code",
   "execution_count": null,
   "metadata": {},
   "outputs": [],
   "source": []
  }
 ],
 "metadata": {
  "kernelspec": {
   "display_name": "Python 3",
   "language": "python",
   "name": "python3"
  },
  "language_info": {
   "codemirror_mode": {
    "name": "ipython",
    "version": 3
   },
   "file_extension": ".py",
   "mimetype": "text/x-python",
   "name": "python",
   "nbconvert_exporter": "python",
   "pygments_lexer": "ipython3",
   "version": "3.6.7"
  }
 },
 "nbformat": 4,
 "nbformat_minor": 2
}
