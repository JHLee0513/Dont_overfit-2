{
 "cells": [
  {
   "cell_type": "markdown",
   "metadata": {},
   "source": [
    "# Ensebmling\n",
    "\n",
    "Ensembling best approach from kernel (https://www.kaggle.com/joonl04/robust-lasso-patches-with-rfe-gs/output?scriptVersionId=11766896)\n",
    "\n",
    "Personal forked version: https://www.kaggle.com/joonl04/robust-lasso-patches-with-rfe-gs\n",
    "\n",
    "And our local approach with logistic regression"
   ]
  },
  {
   "cell_type": "code",
   "execution_count": 1,
   "metadata": {},
   "outputs": [
    {
     "data": {
      "text/plain": [
       "0"
      ]
     },
     "execution_count": 1,
     "metadata": {},
     "output_type": "execute_result"
    }
   ],
   "source": [
    "from sklearn.feature_selection import RFE\n",
    "import matplotlib.pyplot as plt\n",
    "import cv2\n",
    "import pandas as pd\n",
    "import numpy as np\n",
    "from boruta import BorutaPy\n",
    "from sklearn.model_selection import train_test_split, StratifiedKFold, KFold, cross_val_score, GridSearchCV, RepeatedStratifiedKFold\n",
    "from sklearn.preprocessing import StandardScaler,MinMaxScaler\n",
    "import sys, os\n",
    "from sklearn.linear_model import Lasso\n",
    "from sklearn.feature_selection import RFECV\n",
    "from sklearn.preprocessing import RobustScaler\n",
    "from sklearn.model_selection import StratifiedShuffleSplit, GridSearchCV\n",
    "from sklearn.metrics import mean_squared_error, mean_absolute_error, roc_auc_score, r2_score, make_scorer\n",
    "from sklearn.metrics.pairwise import cosine_similarity, euclidean_distances\n",
    "from sklearn.feature_selection import SelectFromModel\n",
    "from sklearn import model_selection\n",
    "from sklearn.metrics import accuracy_score, roc_auc_score\n",
    "from eli5.sklearn import PermutationImportance\n",
    "from sklearn import linear_model\n",
    "from sklearn.ensemble import RandomForestClassifier\n",
    "from sklearn.svm import SVC\n",
    "import featuretools as ft\n",
    "import json\n",
    "import ast\n",
    "import time\n",
    "from sklearn import linear_model\n",
    "import eli5\n",
    "import gc\n",
    "gc.enable()\n",
    "gc.collect()"
   ]
  },
  {
   "cell_type": "code",
   "execution_count": 13,
   "metadata": {},
   "outputs": [
    {
     "data": {
      "text/html": [
       "<div>\n",
       "<style scoped>\n",
       "    .dataframe tbody tr th:only-of-type {\n",
       "        vertical-align: middle;\n",
       "    }\n",
       "\n",
       "    .dataframe tbody tr th {\n",
       "        vertical-align: top;\n",
       "    }\n",
       "\n",
       "    .dataframe thead th {\n",
       "        text-align: right;\n",
       "    }\n",
       "</style>\n",
       "<table border=\"1\" class=\"dataframe\">\n",
       "  <thead>\n",
       "    <tr style=\"text-align: right;\">\n",
       "      <th></th>\n",
       "      <th>id</th>\n",
       "      <th>target</th>\n",
       "    </tr>\n",
       "  </thead>\n",
       "  <tbody>\n",
       "    <tr>\n",
       "      <th>0</th>\n",
       "      <td>250</td>\n",
       "      <td>0.731166</td>\n",
       "    </tr>\n",
       "    <tr>\n",
       "      <th>1</th>\n",
       "      <td>251</td>\n",
       "      <td>0.516686</td>\n",
       "    </tr>\n",
       "    <tr>\n",
       "      <th>2</th>\n",
       "      <td>252</td>\n",
       "      <td>0.616666</td>\n",
       "    </tr>\n",
       "    <tr>\n",
       "      <th>3</th>\n",
       "      <td>253</td>\n",
       "      <td>0.793805</td>\n",
       "    </tr>\n",
       "    <tr>\n",
       "      <th>4</th>\n",
       "      <td>254</td>\n",
       "      <td>0.544886</td>\n",
       "    </tr>\n",
       "  </tbody>\n",
       "</table>\n",
       "</div>"
      ],
      "text/plain": [
       "    id    target\n",
       "0  250  0.731166\n",
       "1  251  0.516686\n",
       "2  252  0.616666\n",
       "3  253  0.793805\n",
       "4  254  0.544886"
      ]
     },
     "execution_count": 13,
     "metadata": {},
     "output_type": "execute_result"
    }
   ],
   "source": [
    "#Get 0.870 result\n",
    "lasso = pd.read_csv(\"/Users/JoonH/DO2_lasso_submission.csv\")\n",
    "\n",
    "#Get 0.849 result\n",
    "log = pd.read_csv(\"/Users/JoonH/dont_overfit_2_approach3_RFECV.csv\")\n",
    "ids = lasso['id']\n",
    "#ensemble 1\n",
    "results = lasso.target*0.8 + log.target*0.2\n",
    "predictions = pd.DataFrame(results, columns = ['target'])\n",
    "predictions = pd.concat([ids, predictions], axis = 1, sort=False)\n",
    "predictions.to_csv('/Users/JoonH/dont_overfit_2_ensemble1.csv',index = False)\n",
    "# LB score: 0.869"
   ]
  },
  {
   "cell_type": "code",
   "execution_count": 3,
   "metadata": {},
   "outputs": [],
   "source": [
    "#Get 0.870 result\n",
    "lasso = pd.read_csv(\"/Users/JoonH/DO2_lasso_kernel_submission1.csv\")\n",
    "\n",
    "#get 0.860 result\n",
    "log = pd.read_csv(\"/Users/JoonH/DO2_pystan_log.csv\")\n",
    "ids = lasso['id']\n",
    "\n",
    "#ensemble 2\n",
    "results = lasso.target*0.8 + log.target*0.2\n",
    "predictions = pd.DataFrame(results, columns = ['target'])\n",
    "predictions = pd.concat([ids, predictions], axis = 1, sort=False)\n",
    "predictions.to_csv('/Users/JoonH/dont_overfit_2_ensemble2.csv',index = False)\n",
    "# LB score: 0.870"
   ]
  },
  {
   "cell_type": "code",
   "execution_count": 2,
   "metadata": {},
   "outputs": [],
   "source": [
    "#Get 0.868 result\n",
    "lasso = pd.read_csv(\"/Users/JoonH/DO2_lasso_kernel_submission.csv\")\n",
    "\n",
    "#get 0.859 result\n",
    "log = pd.read_csv(\"/Users/JoonH/DO2_pystan_log.csv\")\n",
    "\n",
    "#get 0.750 result\n",
    "mlp = pd.read_csv(\"/Users/JoonH/dont_overfit2_mlp.csv\")\n",
    "ids = lasso['id']\n",
    "\n",
    "#ensemble 2\n",
    "results = lasso.target*0.8 + log.target*0.1 + mlp.target*0.1\n",
    "\n",
    "predictions = pd.DataFrame(results, columns = ['target'])\n",
    "predictions = pd.concat([ids, predictions], axis = 1, sort=False)\n",
    "predictions.to_csv('/Users/JoonH/dont_overfit_2_ensemble3.csv',index = False)\n",
    "# LB score: 0.870"
   ]
  },
  {
   "cell_type": "code",
   "execution_count": null,
   "metadata": {},
   "outputs": [],
   "source": []
  },
  {
   "cell_type": "code",
   "execution_count": null,
   "metadata": {},
   "outputs": [],
   "source": []
  }
 ],
 "metadata": {
  "kernelspec": {
   "display_name": "Python 3",
   "language": "python",
   "name": "python3"
  },
  "language_info": {
   "codemirror_mode": {
    "name": "ipython",
    "version": 3
   },
   "file_extension": ".py",
   "mimetype": "text/x-python",
   "name": "python",
   "nbconvert_exporter": "python",
   "pygments_lexer": "ipython3",
   "version": "3.6.8"
  }
 },
 "nbformat": 4,
 "nbformat_minor": 2
}
