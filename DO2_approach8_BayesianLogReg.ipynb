{
 "cells": [
  {
   "cell_type": "markdown",
   "metadata": {},
   "source": [
    "# Improving our log reg model for better improvement\n",
    "\n",
    "So we saw even blending a log reg model initially at 0.849 with lasso model of 0.868 improves at 0.869! We will see if improving our log reg score will help towards that. \n",
    "\n",
    "\n",
    "Hence, let's try implementing bayesian methods to logistic regression. To do so we will try two different implementations - pymc3 and pystan."
   ]
  },
  {
   "cell_type": "markdown",
   "metadata": {},
   "source": [
    "# pystan"
   ]
  },
  {
   "cell_type": "code",
   "execution_count": 1,
   "metadata": {},
   "outputs": [
    {
     "name": "stderr",
     "output_type": "stream",
     "text": [
      "C:\\Users\\JoonH\\AppData\\Local\\conda\\conda\\envs\\TF\\lib\\site-packages\\h5py\\__init__.py:34: FutureWarning: Conversion of the second argument of issubdtype from `float` to `np.floating` is deprecated. In future, it will be treated as `np.float64 == np.dtype(float).type`.\n",
      "  from ._conv import register_converters as _register_converters\n"
     ]
    }
   ],
   "source": [
    "import sys, os\n",
    "import pandas as pd\n",
    "import numpy as np\n",
    "from boruta import BorutaPy\n",
    "from sklearn.linear_model import Lasso, LogisticRegression\n",
    "from sklearn.feature_selection import RFECV\n",
    "from sklearn.preprocessing import RobustScaler, StandardScaler\n",
    "from sklearn.model_selection import StratifiedShuffleSplit, GridSearchCV\n",
    "from sklearn.metrics import mean_squared_error, mean_absolute_error, roc_auc_score, r2_score, make_scorer\n",
    "from sklearn.metrics.pairwise import cosine_similarity, euclidean_distances\n",
    "import theano.tensor as t\n",
    "from scipy.stats import mode\n",
    "import pymc3 as pm\n",
    "\n",
    "def warn(*args, **kwargs):\n",
    "    pass\n",
    "import warnings\n",
    "warnings.warn = warn"
   ]
  },
  {
   "cell_type": "code",
   "execution_count": 2,
   "metadata": {},
   "outputs": [],
   "source": [
    "# import data\n",
    "train = pd.read_csv(\"/Users/JoonH/dont-overfit-ii/train.csv\")\n",
    "train_y = train['target'].astype(int)\n",
    "train_X = train.drop(['id','target'], axis=1).values\n",
    "\n",
    "test_df = pd.read_csv(\"/Users/JoonH/dont-overfit-ii/test.csv\")\n",
    "test = test_df.drop(['id'], axis=1).values\n",
    "\n",
    "# scale using RobustScaler\n",
    "# fitting scaler on full data outperforms fitting on test_X only (+0.006 kaggle score)\n",
    "data = RobustScaler().fit_transform(np.concatenate((train_X, test), axis=0))\n",
    "train_X = data[:250]\n",
    "test = data[250:]"
   ]
  },
  {
   "cell_type": "code",
   "execution_count": 3,
   "metadata": {},
   "outputs": [
    {
     "data": {
      "text/plain": [
       "BorutaPy(alpha=0.05,\n",
       "     estimator=RandomForestClassifier(bootstrap=True, class_weight='balanced',\n",
       "            criterion='gini', max_depth=5, max_features='auto',\n",
       "            max_leaf_nodes=None, min_impurity_decrease=0.0,\n",
       "            min_impurity_split=None, min_samples_leaf=1,\n",
       "            min_samples_split=2, min_weight_fraction_leaf=0.0,\n",
       "            n_estimators=489, n_jobs=4, oob_score=False,\n",
       "            random_state=<mtrand.RandomState object at 0x000001FE5B484510>,\n",
       "            verbose=0, warm_start=False),\n",
       "     max_iter=5, n_estimators='auto', perc=100,\n",
       "     random_state=<mtrand.RandomState object at 0x000001FE5B484510>,\n",
       "     two_step=True, verbose=0)"
      ]
     },
     "execution_count": 3,
     "metadata": {},
     "output_type": "execute_result"
    }
   ],
   "source": [
    "from sklearn.ensemble import RandomForestClassifier\n",
    "\n",
    "rfc = RandomForestClassifier(n_estimators = 200, n_jobs = 4, class_weight = 'balanced', max_depth=5)\n",
    "boruta_selector = BorutaPy(rfc, n_estimators = 'auto', verbose = 0, max_iter = 5)\n",
    "boruta_selector.fit(train_X,train_y)"
   ]
  },
  {
   "cell_type": "code",
   "execution_count": 4,
   "metadata": {},
   "outputs": [
    {
     "data": {
      "text/html": [
       "<div>\n",
       "<style scoped>\n",
       "    .dataframe tbody tr th:only-of-type {\n",
       "        vertical-align: middle;\n",
       "    }\n",
       "\n",
       "    .dataframe tbody tr th {\n",
       "        vertical-align: top;\n",
       "    }\n",
       "\n",
       "    .dataframe thead th {\n",
       "        text-align: right;\n",
       "    }\n",
       "</style>\n",
       "<table border=\"1\" class=\"dataframe\">\n",
       "  <thead>\n",
       "    <tr style=\"text-align: right;\">\n",
       "      <th></th>\n",
       "      <th>features</th>\n",
       "      <th>rank</th>\n",
       "    </tr>\n",
       "  </thead>\n",
       "  <tbody>\n",
       "    <tr>\n",
       "      <th>0</th>\n",
       "      <td>33</td>\n",
       "      <td>2</td>\n",
       "    </tr>\n",
       "    <tr>\n",
       "      <th>1</th>\n",
       "      <td>65</td>\n",
       "      <td>2</td>\n",
       "    </tr>\n",
       "    <tr>\n",
       "      <th>2</th>\n",
       "      <td>217</td>\n",
       "      <td>3</td>\n",
       "    </tr>\n",
       "  </tbody>\n",
       "</table>\n",
       "</div>"
      ],
      "text/plain": [
       "  features  rank\n",
       "0       33     2\n",
       "1       65     2\n",
       "2      217     3"
      ]
     },
     "execution_count": 4,
     "metadata": {},
     "output_type": "execute_result"
    }
   ],
   "source": [
    "feature_df = pd.DataFrame(train.drop(['id','target'],axis=1).columns.tolist(),columns = ['features'])\n",
    "feature_df['rank'] = boruta_selector.ranking_\n",
    "feature_df = feature_df.sort_values('rank',ascending=True).reset_index(drop=True)\n",
    "feature_df.head(3)"
   ]
  },
  {
   "cell_type": "code",
   "execution_count": 5,
   "metadata": {},
   "outputs": [],
   "source": [
    "#keep top K features\n",
    "K = 80\n",
    "columns_to_keep = feature_df.features[0:K]"
   ]
  },
  {
   "cell_type": "code",
   "execution_count": 6,
   "metadata": {},
   "outputs": [
    {
     "data": {
      "text/html": [
       "<div>\n",
       "<style scoped>\n",
       "    .dataframe tbody tr th:only-of-type {\n",
       "        vertical-align: middle;\n",
       "    }\n",
       "\n",
       "    .dataframe tbody tr th {\n",
       "        vertical-align: top;\n",
       "    }\n",
       "\n",
       "    .dataframe thead th {\n",
       "        text-align: right;\n",
       "    }\n",
       "</style>\n",
       "<table border=\"1\" class=\"dataframe\">\n",
       "  <thead>\n",
       "    <tr style=\"text-align: right;\">\n",
       "      <th></th>\n",
       "      <th>33</th>\n",
       "      <th>65</th>\n",
       "      <th>217</th>\n",
       "      <th>91</th>\n",
       "      <th>117</th>\n",
       "      <th>80</th>\n",
       "      <th>24</th>\n",
       "      <th>295</th>\n",
       "      <th>189</th>\n",
       "      <th>17</th>\n",
       "      <th>...</th>\n",
       "      <th>102</th>\n",
       "      <th>269</th>\n",
       "      <th>188</th>\n",
       "      <th>54</th>\n",
       "      <th>257</th>\n",
       "      <th>110</th>\n",
       "      <th>77</th>\n",
       "      <th>95</th>\n",
       "      <th>67</th>\n",
       "      <th>149</th>\n",
       "    </tr>\n",
       "  </thead>\n",
       "  <tbody>\n",
       "    <tr>\n",
       "      <th>0</th>\n",
       "      <td>0.385</td>\n",
       "      <td>-0.770</td>\n",
       "      <td>1.187</td>\n",
       "      <td>0.019</td>\n",
       "      <td>0.710</td>\n",
       "      <td>1.851</td>\n",
       "      <td>1.763</td>\n",
       "      <td>-2.097</td>\n",
       "      <td>-0.443</td>\n",
       "      <td>-0.673</td>\n",
       "      <td>...</td>\n",
       "      <td>-0.704</td>\n",
       "      <td>-0.460</td>\n",
       "      <td>-0.317</td>\n",
       "      <td>-0.840</td>\n",
       "      <td>-1.053</td>\n",
       "      <td>-0.778</td>\n",
       "      <td>0.130</td>\n",
       "      <td>0.638</td>\n",
       "      <td>-1.504</td>\n",
       "      <td>-0.841</td>\n",
       "    </tr>\n",
       "    <tr>\n",
       "      <th>1</th>\n",
       "      <td>-2.721</td>\n",
       "      <td>1.221</td>\n",
       "      <td>0.216</td>\n",
       "      <td>1.188</td>\n",
       "      <td>0.987</td>\n",
       "      <td>-0.759</td>\n",
       "      <td>-1.519</td>\n",
       "      <td>-1.624</td>\n",
       "      <td>-1.178</td>\n",
       "      <td>-0.237</td>\n",
       "      <td>...</td>\n",
       "      <td>0.379</td>\n",
       "      <td>1.267</td>\n",
       "      <td>-0.354</td>\n",
       "      <td>0.051</td>\n",
       "      <td>-1.258</td>\n",
       "      <td>1.911</td>\n",
       "      <td>1.195</td>\n",
       "      <td>0.620</td>\n",
       "      <td>1.133</td>\n",
       "      <td>1.402</td>\n",
       "    </tr>\n",
       "    <tr>\n",
       "      <th>2</th>\n",
       "      <td>0.924</td>\n",
       "      <td>0.943</td>\n",
       "      <td>0.269</td>\n",
       "      <td>0.269</td>\n",
       "      <td>-0.384</td>\n",
       "      <td>0.758</td>\n",
       "      <td>1.786</td>\n",
       "      <td>-1.165</td>\n",
       "      <td>-0.702</td>\n",
       "      <td>0.270</td>\n",
       "      <td>...</td>\n",
       "      <td>0.651</td>\n",
       "      <td>-0.491</td>\n",
       "      <td>-0.829</td>\n",
       "      <td>-0.347</td>\n",
       "      <td>2.470</td>\n",
       "      <td>-0.199</td>\n",
       "      <td>-0.971</td>\n",
       "      <td>0.857</td>\n",
       "      <td>0.593</td>\n",
       "      <td>-0.191</td>\n",
       "    </tr>\n",
       "    <tr>\n",
       "      <th>3</th>\n",
       "      <td>0.394</td>\n",
       "      <td>-0.706</td>\n",
       "      <td>0.066</td>\n",
       "      <td>1.103</td>\n",
       "      <td>-0.152</td>\n",
       "      <td>0.030</td>\n",
       "      <td>0.365</td>\n",
       "      <td>0.467</td>\n",
       "      <td>-1.056</td>\n",
       "      <td>0.836</td>\n",
       "      <td>...</td>\n",
       "      <td>-0.418</td>\n",
       "      <td>0.769</td>\n",
       "      <td>-0.455</td>\n",
       "      <td>0.508</td>\n",
       "      <td>-0.591</td>\n",
       "      <td>-0.819</td>\n",
       "      <td>1.100</td>\n",
       "      <td>-1.108</td>\n",
       "      <td>1.629</td>\n",
       "      <td>0.817</td>\n",
       "    </tr>\n",
       "    <tr>\n",
       "      <th>4</th>\n",
       "      <td>0.037</td>\n",
       "      <td>0.357</td>\n",
       "      <td>0.110</td>\n",
       "      <td>0.892</td>\n",
       "      <td>1.027</td>\n",
       "      <td>-0.187</td>\n",
       "      <td>0.024</td>\n",
       "      <td>1.378</td>\n",
       "      <td>-0.602</td>\n",
       "      <td>-0.322</td>\n",
       "      <td>...</td>\n",
       "      <td>-0.617</td>\n",
       "      <td>-1.517</td>\n",
       "      <td>0.119</td>\n",
       "      <td>0.620</td>\n",
       "      <td>0.231</td>\n",
       "      <td>-0.364</td>\n",
       "      <td>0.350</td>\n",
       "      <td>0.114</td>\n",
       "      <td>-0.142</td>\n",
       "      <td>0.850</td>\n",
       "    </tr>\n",
       "  </tbody>\n",
       "</table>\n",
       "<p>5 rows × 200 columns</p>\n",
       "</div>"
      ],
      "text/plain": [
       "      33     65    217     91    117     80     24    295    189     17  ...  \\\n",
       "0  0.385 -0.770  1.187  0.019  0.710  1.851  1.763 -2.097 -0.443 -0.673  ...   \n",
       "1 -2.721  1.221  0.216  1.188  0.987 -0.759 -1.519 -1.624 -1.178 -0.237  ...   \n",
       "2  0.924  0.943  0.269  0.269 -0.384  0.758  1.786 -1.165 -0.702  0.270  ...   \n",
       "3  0.394 -0.706  0.066  1.103 -0.152  0.030  0.365  0.467 -1.056  0.836  ...   \n",
       "4  0.037  0.357  0.110  0.892  1.027 -0.187  0.024  1.378 -0.602 -0.322  ...   \n",
       "\n",
       "     102    269    188     54    257    110     77     95     67    149  \n",
       "0 -0.704 -0.460 -0.317 -0.840 -1.053 -0.778  0.130  0.638 -1.504 -0.841  \n",
       "1  0.379  1.267 -0.354  0.051 -1.258  1.911  1.195  0.620  1.133  1.402  \n",
       "2  0.651 -0.491 -0.829 -0.347  2.470 -0.199 -0.971  0.857  0.593 -0.191  \n",
       "3 -0.418  0.769 -0.455  0.508 -0.591 -0.819  1.100 -1.108  1.629  0.817  \n",
       "4 -0.617 -1.517  0.119  0.620  0.231 -0.364  0.350  0.114 -0.142  0.850  \n",
       "\n",
       "[5 rows x 200 columns]"
      ]
     },
     "execution_count": 6,
     "metadata": {},
     "output_type": "execute_result"
    }
   ],
   "source": [
    "boruta_train = train[columns_to_keep]\n",
    "boruta_test = test_df[columns_to_keep]\n",
    "boruta_train.head()"
   ]
  },
  {
   "cell_type": "code",
   "execution_count": 7,
   "metadata": {},
   "outputs": [],
   "source": [
    "# scale using RobustScaler\n",
    "# fitting scaler on full data outperforms fitting on test_X only (+0.006 kaggle score)\n",
    "data = RobustScaler().fit_transform(np.concatenate((boruta_train, boruta_test), axis=0))\n",
    "train_X = data[:250]\n",
    "test = data[250:]\n",
    "# add a bit of noise to train_X to reduce overfitting\n",
    "train_X += np.random.normal(0, 0.01, train_X.shape)"
   ]
  },
  {
   "cell_type": "code",
   "execution_count": 8,
   "metadata": {},
   "outputs": [],
   "source": [
    "import pystan"
   ]
  },
  {
   "cell_type": "code",
   "execution_count": 16,
   "metadata": {},
   "outputs": [
    {
     "name": "stderr",
     "output_type": "stream",
     "text": [
      "INFO:pystan:COMPILING THE C++ CODE FOR MODEL anon_model_1e1849401812d98f72a13a451f4daae7 NOW.\n",
      "WARNING:pystan:Maximum (flat) parameter count (1000) exceeded: skipping diagnostic tests for n_eff and Rhat.\n",
      "To run all diagnostics call pystan.check_hmc_diagnostics(fit)\n"
     ]
    }
   ],
   "source": [
    "#experimentation\n",
    "\n",
    "code = \"\"\"                                                                                           \n",
    "data {                                                                                               \n",
    "  int N; //the number of training observations                                                       \n",
    "  int N2; //the number of test observations                                                          \n",
    "  int K; //the number of features                                                                    \n",
    "  int y[N]; //the response                                                                           \n",
    "  matrix[N,K] X; //the model matrix                                                                  \n",
    "  matrix[N2,K] new_X; //the matrix for the predicted values                                          \n",
    "}                                                                                                    \n",
    "parameters {                                                                                         \n",
    "  real alpha;                                                                                        \n",
    "  vector[K] beta; //the regression parameters                                                        \n",
    "}                                                                                                    \n",
    "transformed parameters {                                                                             \n",
    "  vector[N] linpred;                                                                                 \n",
    "  linpred = alpha+X*beta;                                                                            \n",
    "}                                                                                                    \n",
    "model {                                                                                              \n",
    "  alpha ~ cauchy(0,10); //prior for the intercept following Gelman 2008                              \n",
    "                                                                                                     \n",
    "  for(i in 1:K)                                                                                      \n",
    "    beta[i] ~ student_t(1, 0, 0.035);                                                                 \n",
    "                                                                                                     \n",
    "  y ~ bernoulli_logit(linpred);                                                                      \n",
    "}                                                                                                    \n",
    "generated quantities {                                                                               \n",
    "  vector[N2] y_pred;                                                                                 \n",
    "  y_pred = alpha+new_X*beta; //the y values predicted by the model                                   \n",
    "}                                                                                                    \n",
    "\"\"\"    \n",
    "\n",
    "data = {                                                                                             \n",
    "    'N': 250,                                                                                        \n",
    "    'N2': 19750,                                                                                     \n",
    "    'K': 200,                                                                                        \n",
    "    'y': train_y,                                                                                     \n",
    "    'X': train_X,                                                                                      \n",
    "    'new_X': test,                                                                                   \n",
    "} \n",
    "\n",
    "n_itr = 3000\n",
    "n_warmup = 1500\n",
    "\n",
    "sm = pystan.StanModel(model_code = code)\n",
    "fit = sm.sampling(data = data, iter = n_itr, warmup = n_warmup, seed = None)\n",
    "ex = fit.extract(permuted = True)"
   ]
  },
  {
   "cell_type": "code",
   "execution_count": 17,
   "metadata": {},
   "outputs": [],
   "source": [
    "import scipy\n",
    "from scipy.stats import bernoulli\n",
    "\n",
    "def logit_to_prob(logit):\n",
    "    odds = np.exp(logit)\n",
    "    prob = odds / (1 + odds)\n",
    "    return prob\n",
    "\n",
    "#target = np.mean(ex['y_pred'], axis = 0)\n",
    "target = np.mean(logit_to_prob(ex['y_pred']), axis = 0)\n",
    "ids = test_df['id']\n",
    "df = pd.DataFrame({'id': ids, 'target' : target})\n",
    "df[['id', 'target']].to_csv(\"/Users/JoonH/DO2_pystan_log_student_0_0035.csv\", index = False)"
   ]
  },
  {
   "cell_type": "code",
   "execution_count": 9,
   "metadata": {},
   "outputs": [
    {
     "ename": "ValueError",
     "evalue": "Failed to parse Stan model 'anon_model_b03cb6e073632c0b3ebbf59424a12dda'. Error message:\nSYNTAX ERROR, MESSAGE(S) FROM PARSER:\n\nProbability function must end in _lpdf or _lpmf. Found distribution family = laplace with no corresponding probability function laplace_lpdf, laplace_lpmf, or laplace_log\n  error in 'unknown file name' at line 22, column 35\n  -------------------------------------------------\n    20:                                                                                                      \n    21:   for(i in 1:K)                                                                                      \n    22:     beta[i] ~ laplace(1, 0, 0.03);                                                                 \n                                          ^\n    23:                                                                                                      \n  -------------------------------------------------\n\n",
     "output_type": "error",
     "traceback": [
      "\u001b[1;31m---------------------------------------------------------------------------\u001b[0m",
      "\u001b[1;31mValueError\u001b[0m                                Traceback (most recent call last)",
      "\u001b[1;32m<ipython-input-9-3c6bef2b1ca2>\u001b[0m in \u001b[0;36m<module>\u001b[1;34m\u001b[0m\n\u001b[0;32m     43\u001b[0m \u001b[0mn_warmup\u001b[0m \u001b[1;33m=\u001b[0m \u001b[1;36m1000\u001b[0m\u001b[1;33m\u001b[0m\u001b[1;33m\u001b[0m\u001b[0m\n\u001b[0;32m     44\u001b[0m \u001b[1;33m\u001b[0m\u001b[0m\n\u001b[1;32m---> 45\u001b[1;33m \u001b[0msm\u001b[0m \u001b[1;33m=\u001b[0m \u001b[0mpystan\u001b[0m\u001b[1;33m.\u001b[0m\u001b[0mStanModel\u001b[0m\u001b[1;33m(\u001b[0m\u001b[0mmodel_code\u001b[0m \u001b[1;33m=\u001b[0m \u001b[0mcode\u001b[0m\u001b[1;33m)\u001b[0m\u001b[1;33m\u001b[0m\u001b[1;33m\u001b[0m\u001b[0m\n\u001b[0m\u001b[0;32m     46\u001b[0m \u001b[0mfit\u001b[0m \u001b[1;33m=\u001b[0m \u001b[0msm\u001b[0m\u001b[1;33m.\u001b[0m\u001b[0msampling\u001b[0m\u001b[1;33m(\u001b[0m\u001b[0mdata\u001b[0m \u001b[1;33m=\u001b[0m \u001b[0mdata\u001b[0m\u001b[1;33m,\u001b[0m \u001b[0miter\u001b[0m \u001b[1;33m=\u001b[0m \u001b[0mn_itr\u001b[0m\u001b[1;33m,\u001b[0m \u001b[0mwarmup\u001b[0m \u001b[1;33m=\u001b[0m \u001b[0mn_warmup\u001b[0m\u001b[1;33m,\u001b[0m \u001b[0mseed\u001b[0m \u001b[1;33m=\u001b[0m \u001b[1;32mNone\u001b[0m\u001b[1;33m)\u001b[0m\u001b[1;33m\u001b[0m\u001b[1;33m\u001b[0m\u001b[0m\n\u001b[0;32m     47\u001b[0m \u001b[0mex\u001b[0m \u001b[1;33m=\u001b[0m \u001b[0mfit\u001b[0m\u001b[1;33m.\u001b[0m\u001b[0mextract\u001b[0m\u001b[1;33m(\u001b[0m\u001b[0mpermuted\u001b[0m \u001b[1;33m=\u001b[0m \u001b[1;32mTrue\u001b[0m\u001b[1;33m)\u001b[0m\u001b[1;33m\u001b[0m\u001b[1;33m\u001b[0m\u001b[0m\n",
      "\u001b[1;32m~\\AppData\\Local\\conda\\conda\\envs\\TF\\lib\\site-packages\\pystan\\model.py\u001b[0m in \u001b[0;36m__init__\u001b[1;34m(self, file, charset, model_name, model_code, stanc_ret, include_paths, boost_lib, eigen_lib, verbose, obfuscate_model_name, extra_compile_args)\u001b[0m\n\u001b[0;32m    221\u001b[0m                                          \u001b[0mverbose\u001b[0m\u001b[1;33m=\u001b[0m\u001b[0mverbose\u001b[0m\u001b[1;33m,\u001b[0m\u001b[1;33m\u001b[0m\u001b[1;33m\u001b[0m\u001b[0m\n\u001b[0;32m    222\u001b[0m                                          \u001b[0minclude_paths\u001b[0m\u001b[1;33m=\u001b[0m\u001b[0minclude_paths\u001b[0m\u001b[1;33m,\u001b[0m\u001b[1;33m\u001b[0m\u001b[1;33m\u001b[0m\u001b[0m\n\u001b[1;32m--> 223\u001b[1;33m                                          obfuscate_model_name=obfuscate_model_name)\n\u001b[0m\u001b[0;32m    224\u001b[0m \u001b[1;33m\u001b[0m\u001b[0m\n\u001b[0;32m    225\u001b[0m         \u001b[1;32mif\u001b[0m \u001b[1;32mnot\u001b[0m \u001b[0misinstance\u001b[0m\u001b[1;33m(\u001b[0m\u001b[0mstanc_ret\u001b[0m\u001b[1;33m,\u001b[0m \u001b[0mdict\u001b[0m\u001b[1;33m)\u001b[0m\u001b[1;33m:\u001b[0m\u001b[1;33m\u001b[0m\u001b[1;33m\u001b[0m\u001b[0m\n",
      "\u001b[1;32m~\\AppData\\Local\\conda\\conda\\envs\\TF\\lib\\site-packages\\pystan\\api.py\u001b[0m in \u001b[0;36mstanc\u001b[1;34m(file, charset, model_code, model_name, include_paths, verbose, obfuscate_model_name)\u001b[0m\n\u001b[0;32m    165\u001b[0m             \u001b[0mmsg\u001b[0m \u001b[1;33m=\u001b[0m \u001b[0mmsg\u001b[0m\u001b[1;33m.\u001b[0m\u001b[0mencode\u001b[0m\u001b[1;33m(\u001b[0m\u001b[1;34m'ascii'\u001b[0m\u001b[1;33m,\u001b[0m \u001b[1;34m'replace'\u001b[0m\u001b[1;33m)\u001b[0m\u001b[1;33m\u001b[0m\u001b[1;33m\u001b[0m\u001b[0m\n\u001b[0;32m    166\u001b[0m         \u001b[0merror_msg\u001b[0m \u001b[1;33m=\u001b[0m \u001b[1;34m\"Failed to parse Stan model '{}'. Error message:\\n{}\"\u001b[0m\u001b[1;33m.\u001b[0m\u001b[0mformat\u001b[0m\u001b[1;33m(\u001b[0m\u001b[0mmodel_name\u001b[0m\u001b[1;33m,\u001b[0m \u001b[0mmsg\u001b[0m\u001b[1;33m)\u001b[0m\u001b[1;33m\u001b[0m\u001b[1;33m\u001b[0m\u001b[0m\n\u001b[1;32m--> 167\u001b[1;33m         \u001b[1;32mraise\u001b[0m \u001b[0mValueError\u001b[0m\u001b[1;33m(\u001b[0m\u001b[0merror_msg\u001b[0m\u001b[1;33m)\u001b[0m\u001b[1;33m\u001b[0m\u001b[1;33m\u001b[0m\u001b[0m\n\u001b[0m\u001b[0;32m    168\u001b[0m     \u001b[1;32melif\u001b[0m \u001b[0mresult\u001b[0m\u001b[1;33m[\u001b[0m\u001b[1;34m'status'\u001b[0m\u001b[1;33m]\u001b[0m \u001b[1;33m==\u001b[0m \u001b[1;36m0\u001b[0m\u001b[1;33m:\u001b[0m  \u001b[1;31m# SUCCESS_RC is 0\u001b[0m\u001b[1;33m\u001b[0m\u001b[1;33m\u001b[0m\u001b[0m\n\u001b[0;32m    169\u001b[0m         \u001b[0mlogger\u001b[0m\u001b[1;33m.\u001b[0m\u001b[0mdebug\u001b[0m\u001b[1;33m(\u001b[0m\u001b[1;34m\"Successfully parsed Stan model '{}'.\"\u001b[0m\u001b[1;33m.\u001b[0m\u001b[0mformat\u001b[0m\u001b[1;33m(\u001b[0m\u001b[0mmodel_name\u001b[0m\u001b[1;33m)\u001b[0m\u001b[1;33m)\u001b[0m\u001b[1;33m\u001b[0m\u001b[1;33m\u001b[0m\u001b[0m\n",
      "\u001b[1;31mValueError\u001b[0m: Failed to parse Stan model 'anon_model_b03cb6e073632c0b3ebbf59424a12dda'. Error message:\nSYNTAX ERROR, MESSAGE(S) FROM PARSER:\n\nProbability function must end in _lpdf or _lpmf. Found distribution family = laplace with no corresponding probability function laplace_lpdf, laplace_lpmf, or laplace_log\n  error in 'unknown file name' at line 22, column 35\n  -------------------------------------------------\n    20:                                                                                                      \n    21:   for(i in 1:K)                                                                                      \n    22:     beta[i] ~ laplace(1, 0, 0.03);                                                                 \n                                          ^\n    23:                                                                                                      \n  -------------------------------------------------\n\n"
     ]
    }
   ],
   "source": [
    "#https://www.kaggle.com/gkoundry/bayesian-logistic-regression-with-pystan                                                                                                     \n",
    "code = \"\"\"                                                                                           \n",
    "data {                                                                                               \n",
    "  int N; //the number of training observations                                                       \n",
    "  int N2; //the number of test observations                                                          \n",
    "  int K; //the number of features                                                                    \n",
    "  int y[N]; //the response                                                                           \n",
    "  matrix[N,K] X; //the model matrix                                                                  \n",
    "  matrix[N2,K] new_X; //the matrix for the predicted values                                          \n",
    "}                                                                                                    \n",
    "parameters {                                                                                         \n",
    "  real alpha;                                                                                        \n",
    "  vector[K] beta; //the regression parameters                                                        \n",
    "}                                                                                                    \n",
    "transformed parameters {                                                                             \n",
    "  vector[N] linpred;                                                                                 \n",
    "  linpred = alpha+X*beta;                                                                            \n",
    "}                                                                                                    \n",
    "model {                                                                                              \n",
    "  alpha ~ cauchy(0,10); //prior for the intercept following Gelman 2008                              \n",
    "                                                                                                     \n",
    "  for(i in 1:K)                                                                                      \n",
    "    beta[i] ~ student_t(1, 0, 0.03);                                                                 \n",
    "                                                                                                     \n",
    "  y ~ bernoulli_logit(linpred);                                                                      \n",
    "}                                                                                                    \n",
    "generated quantities {                                                                               \n",
    "  vector[N2] y_pred;                                                                                 \n",
    "  y_pred = alpha+new_X*beta; //the y values predicted by the model                                   \n",
    "}                                                                                                    \n",
    "\"\"\"    \n",
    "\n",
    "data = {                                                                                             \n",
    "    'N': 250,                                                                                        \n",
    "    'N2': 19750,                                                                                     \n",
    "    'K': 80,                                                                                        \n",
    "    'y': train_y,                                                                                     \n",
    "    'X': train_X,                                                                                      \n",
    "    'new_X': test,                                                                                   \n",
    "} \n",
    "\n",
    "n_itr = 3000\n",
    "n_warmup = 1000\n",
    "\n",
    "sm = pystan.StanModel(model_code = code)\n",
    "fit = sm.sampling(data = data, iter = n_itr, warmup = n_warmup, seed = None)\n",
    "ex = fit.extract(permuted = True)"
   ]
  },
  {
   "cell_type": "code",
   "execution_count": 64,
   "metadata": {},
   "outputs": [],
   "source": [
    "import scipy\n",
    "from scipy.stats import bernoulli\n",
    "\n",
    "def logit_to_prob(logit):\n",
    "    odds = np.exp(logit)\n",
    "    prob = odds / (1 + odds)\n",
    "    return prob"
   ]
  },
  {
   "cell_type": "code",
   "execution_count": 66,
   "metadata": {},
   "outputs": [],
   "source": [
    "#target = np.mean(ex['y_pred'], axis = 0)\n",
    "target = np.mean(logit_to_prob(ex['y_pred']), axis = 0)\n",
    "ids = test_df['id']\n",
    "df = pd.DataFrame({'id': ids, 'target' : target})\n",
    "df[['id', 'target']].to_csv(\"/Users/JoonH/DO2_pystan_log.csv\", index = False)"
   ]
  },
  {
   "cell_type": "markdown",
   "metadata": {},
   "source": [
    "This gives us LB score of 0.858, and blending this score with our lasso output we get 0.870!"
   ]
  },
  {
   "cell_type": "markdown",
   "metadata": {},
   "source": [
    "*sources:*\n",
    "\n",
    "1. https://www.kaggle.com/gkoundry/bayesian-logistic-regression-with-pystan/log\n",
    "2. https://barnesanalytics.com/bayesian-logistic-regression-in-python-using-pymc3"
   ]
  },
  {
   "cell_type": "code",
   "execution_count": null,
   "metadata": {},
   "outputs": [],
   "source": []
  },
  {
   "cell_type": "code",
   "execution_count": null,
   "metadata": {},
   "outputs": [],
   "source": []
  },
  {
   "cell_type": "code",
   "execution_count": null,
   "metadata": {},
   "outputs": [],
   "source": []
  }
 ],
 "metadata": {
  "kernelspec": {
   "display_name": "Python 3",
   "language": "python",
   "name": "python3"
  },
  "language_info": {
   "codemirror_mode": {
    "name": "ipython",
    "version": 3
   },
   "file_extension": ".py",
   "mimetype": "text/x-python",
   "name": "python",
   "nbconvert_exporter": "python",
   "pygments_lexer": "ipython3",
   "version": "3.6.8"
  }
 },
 "nbformat": 4,
 "nbformat_minor": 2
}
