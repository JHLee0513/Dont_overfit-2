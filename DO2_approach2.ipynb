{
 "cells": [
  {
   "cell_type": "markdown",
   "metadata": {},
   "source": [
    "# Approach 2\n",
    "\n",
    "So in approach 1 we had some interesting feature selection/generation process to try to reduce our dimensionality, keep the important ones, re-expand the set, and then reduce it again to get a small combination of features both original and engineered."
   ]
  },
  {
   "cell_type": "markdown",
   "metadata": {},
   "source": [
    "This time let's try to keep it simple. we\n",
    "1. Train logistic regression model\n",
    "2. Perform boruta\n",
    "3. Retrain with boruta\n",
    "4. Make our final predictions"
   ]
  },
  {
   "cell_type": "code",
   "execution_count": 75,
   "metadata": {},
   "outputs": [
    {
     "data": {
      "text/plain": [
       "336"
      ]
     },
     "execution_count": 75,
     "metadata": {},
     "output_type": "execute_result"
    }
   ],
   "source": [
    "import matplotlib.pyplot as plt\n",
    "import cv2\n",
    "import pandas as pd\n",
    "import numpy as np\n",
    "from boruta import BorutaPy\n",
    "from sklearn.model_selection import train_test_split, StratifiedKFold, KFold, cross_val_score, GridSearchCV, RepeatedStratifiedKFold\n",
    "from sklearn.preprocessing import StandardScaler\n",
    "from sklearn.feature_selection import SelectFromModel\n",
    "from sklearn import model_selection\n",
    "from sklearn.metrics import accuracy_score, roc_auc_score\n",
    "from eli5.sklearn import PermutationImportance\n",
    "from sklearn import linear_model\n",
    "from sklearn.ensemble import RandomForestClassifier\n",
    "from sklearn.svm import SVC\n",
    "import featuretools as ft\n",
    "import json\n",
    "import ast\n",
    "import time\n",
    "from sklearn import linear_model\n",
    "import eli5\n",
    "import gc\n",
    "gc.enable()\n",
    "gc.collect()"
   ]
  },
  {
   "cell_type": "code",
   "execution_count": 74,
   "metadata": {},
   "outputs": [],
   "source": [
    "train_df = pd.read_csv(\"/Users/JoonH/dont-overfit-ii/train.csv\")\n",
    "test_df = pd.read_csv(\"/Users/JoonH/dont-overfit-ii/test.csv\")"
   ]
  },
  {
   "cell_type": "code",
   "execution_count": 76,
   "metadata": {},
   "outputs": [],
   "source": [
    "x_train = train_df.drop(['target','id'],axis=1)\n",
    "y_train = train_df['target']\n",
    "x_test = test_df.drop(['id'],axis=1)\n",
    "\n",
    "n_fold = 20\n",
    "folds = StratifiedKFold(n_splits=n_fold, shuffle=True, random_state=42)\n",
    "scaler = StandardScaler()\n",
    "x_train = scaler.fit_transform(x_train)\n",
    "x_test = scaler.transform(x_test)"
   ]
  },
  {
   "cell_type": "code",
   "execution_count": 129,
   "metadata": {},
   "outputs": [],
   "source": [
    "def train_model(X, X_test, y, params, folds=folds, model_type='lgb', plot_feature_importance=False, averaging='usual', model=None):\n",
    "    oof = np.zeros(len(X))\n",
    "    prediction = np.zeros(len(X_test))\n",
    "    scores = []\n",
    "    feature_importance = pd.DataFrame()\n",
    "    for fold_n, (train_index, valid_index) in enumerate(folds.split(X, y)):\n",
    "        # print('Fold', fold_n, 'started at', time.ctime())\n",
    "        X_train, X_valid = X[train_index], X[valid_index]\n",
    "        y_train, y_valid = y[train_index], y[valid_index]\n",
    "        \n",
    "        if model_type == 'lgb':\n",
    "            train_data = lgb.Dataset(X_train, label=y_train)\n",
    "            valid_data = lgb.Dataset(X_valid, label=y_valid)\n",
    "            \n",
    "            model = lgb.train(params,\n",
    "                    train_data,\n",
    "                    num_boost_round=2000,\n",
    "                    valid_sets = [train_data, valid_data],\n",
    "                    verbose_eval=500,\n",
    "                    early_stopping_rounds = 200)\n",
    "            \n",
    "            y_pred_valid = model.predict(X_valid)\n",
    "            y_pred = model.predict(X_test, num_iteration=model.best_iteration_)\n",
    "            \n",
    "        if model_type == 'xgb':\n",
    "            train_data = xgb.DMatrix(data=X_train, label=y_train, feature_names=X_tr.columns)\n",
    "            valid_data = xgb.DMatrix(data=X_valid, label=y_valid, feature_names=X_tr.columns)\n",
    "\n",
    "            watchlist = [(train_data, 'train'), (valid_data, 'valid_data')]\n",
    "            model = xgb.train(dtrain=train_data, num_boost_round=20000, evals=watchlist, early_stopping_rounds=200, verbose_eval=500, params=params)\n",
    "            y_pred_valid = model.predict(xgb.DMatrix(X_valid, feature_names=X_tr.columns), ntree_limit=model.best_ntree_limit)\n",
    "            y_pred = model.predict(xgb.DMatrix(X_test, feature_names=X_tr.columns), ntree_limit=model.best_ntree_limit)\n",
    "        \n",
    "        if model_type == 'cat':\n",
    "            model = CatBoostClassifier(iterations=20000,  eval_metric='AUC', **params)\n",
    "            model.fit(X_train, y_train, eval_set=(X_valid, y_valid), cat_features=[], use_best_model=True, verbose=False)\n",
    "\n",
    "            y_pred_valid = model.predict(X_valid)\n",
    "            y_pred = model.predict(X_test)\n",
    "            \n",
    "            \n",
    "        if model_type == 'sklearn':\n",
    "            model = model\n",
    "            model.fit(X_train, y_train)\n",
    "            y_pred_valid = model.predict(X_valid).reshape(-1,)\n",
    "            score = roc_auc_score(y_valid, y_pred_valid)\n",
    "            # print(f'Fold {fold_n}. AUC: {score:.4f}.')\n",
    "            # print('')\n",
    "            \n",
    "            y_pred = model.predict_proba(X_test)[:, 1]\n",
    "            \n",
    "            \n",
    "        if model_type == 'glm':\n",
    "            model = sm.GLM(y_train, X_train, family=sm.families.Binomial())\n",
    "            model_results = model.fit()\n",
    "            model_results.predict(X_test)\n",
    "            y_pred_valid = model_results.predict(X_valid).reshape(-1,)\n",
    "            score = roc_auc_score(y_valid, y_pred_valid)\n",
    "            \n",
    "            y_pred = model_results.predict(X_test)\n",
    "        \n",
    "        oof[valid_index] = y_pred_valid.reshape(-1,)\n",
    "        scores.append(roc_auc_score(y_valid, y_pred_valid))\n",
    "\n",
    "        if averaging == 'usual':\n",
    "            prediction += y_pred\n",
    "        elif averaging == 'rank':\n",
    "            prediction += pd.Series(y_pred).rank().values  \n",
    "        \n",
    "        if model_type == 'lgb':\n",
    "            # feature importance\n",
    "            fold_importance = pd.DataFrame()\n",
    "            fold_importance[\"feature\"] = X.columns\n",
    "            fold_importance[\"importance\"] = model.feature_importances_\n",
    "            fold_importance[\"fold\"] = fold_n + 1\n",
    "            feature_importance = pd.concat([feature_importance, fold_importance], axis=0)\n",
    "\n",
    "    prediction /= n_fold\n",
    "    \n",
    "    #print('CV mean score: {0:.4f}, std: {1:.4f}.'.format(np.mean(scores), np.std(scores)))\n",
    "    \n",
    "    if model_type == 'lgb':\n",
    "        feature_importance[\"importance\"] /= n_fold\n",
    "        if plot_feature_importance:\n",
    "            cols = feature_importance[[\"feature\", \"importance\"]].groupby(\"feature\").mean().sort_values(\n",
    "                by=\"importance\", ascending=False)[:50].index\n",
    "\n",
    "            best_features = feature_importance.loc[feature_importance.feature.isin(cols)]\n",
    "\n",
    "            plt.figure(figsize=(16, 12));\n",
    "            sns.barplot(x=\"importance\", y=\"feature\", data=best_features.sort_values(by=\"importance\", ascending=False));\n",
    "            plt.title('LGB Features (avg over folds)');\n",
    "        \n",
    "            return oof, prediction, feature_importance\n",
    "        return oof, prediction, scores\n",
    "    \n",
    "    else:\n",
    "        return oof, prediction, scores"
   ]
  },
  {
   "cell_type": "code",
   "execution_count": 107,
   "metadata": {},
   "outputs": [
    {
     "name": "stdout",
     "output_type": "stream",
     "text": [
      "CV mean score: 0.7269, std: 0.0868.\n"
     ]
    }
   ],
   "source": [
    "model = linear_model.LogisticRegression(class_weight='balanced', penalty='l1', C=0.075, solver='liblinear')\n",
    "oof_lr, prediction_lr, _ = train_model(x_train, x_test, y_train, params=None, model_type='sklearn', model=model)"
   ]
  },
  {
   "cell_type": "code",
   "execution_count": 100,
   "metadata": {},
   "outputs": [],
   "source": [
    "#Try submitting this\n",
    "results = prediction_lr\n",
    "predictions = pd.DataFrame(results, columns = ['target'])\n",
    "ids = test_df['id']\n",
    "predictions = pd.concat([ids, predictions], axis = 1, sort=False)\n",
    "predictions.to_csv('dont_overfit_2_approach2_mid.csv',index = False)"
   ]
  },
  {
   "cell_type": "markdown",
   "metadata": {},
   "source": [
    "This gives us 0.839 on LB, it seems that we are slightly overfitting. Let's continue"
   ]
  },
  {
   "cell_type": "code",
   "execution_count": 108,
   "metadata": {},
   "outputs": [
    {
     "data": {
      "text/plain": [
       "BorutaPy(alpha=0.05,\n",
       "     estimator=RandomForestClassifier(bootstrap=True, class_weight='balanced',\n",
       "            criterion='gini', max_depth=5, max_features='auto',\n",
       "            max_leaf_nodes=None, min_impurity_decrease=0.0,\n",
       "            min_impurity_split=None, min_samples_leaf=1,\n",
       "            min_samples_split=2, min_weight_fraction_leaf=0.0,\n",
       "            n_estimators=74, n_jobs=-1, oob_score=False,\n",
       "            random_state=<mtrand.RandomState object at 0x00000180286ADCA8>,\n",
       "            verbose=0, warm_start=False),\n",
       "     max_iter=100, n_estimators='auto', perc=100,\n",
       "     random_state=<mtrand.RandomState object at 0x00000180286ADCA8>,\n",
       "     two_step=True, verbose=0)"
      ]
     },
     "execution_count": 108,
     "metadata": {},
     "output_type": "execute_result"
    }
   ],
   "source": [
    "rfc = RandomForestClassifier(n_estimators = 100, n_jobs = -1, class_weight = 'balanced', max_depth=5)\n",
    "boruta_selector = BorutaPy(rfc, n_estimators = 'auto', verbose = 0)\n",
    "boruta_selector.fit(x_train,y_train)"
   ]
  },
  {
   "cell_type": "code",
   "execution_count": 110,
   "metadata": {},
   "outputs": [
    {
     "data": {
      "text/html": [
       "<div>\n",
       "<style scoped>\n",
       "    .dataframe tbody tr th:only-of-type {\n",
       "        vertical-align: middle;\n",
       "    }\n",
       "\n",
       "    .dataframe tbody tr th {\n",
       "        vertical-align: top;\n",
       "    }\n",
       "\n",
       "    .dataframe thead th {\n",
       "        text-align: right;\n",
       "    }\n",
       "</style>\n",
       "<table border=\"1\" class=\"dataframe\">\n",
       "  <thead>\n",
       "    <tr style=\"text-align: right;\">\n",
       "      <th></th>\n",
       "      <th>features</th>\n",
       "      <th>rank</th>\n",
       "    </tr>\n",
       "  </thead>\n",
       "  <tbody>\n",
       "    <tr>\n",
       "      <th>0</th>\n",
       "      <td>33</td>\n",
       "      <td>1</td>\n",
       "    </tr>\n",
       "    <tr>\n",
       "      <th>1</th>\n",
       "      <td>117</td>\n",
       "      <td>1</td>\n",
       "    </tr>\n",
       "    <tr>\n",
       "      <th>2</th>\n",
       "      <td>217</td>\n",
       "      <td>1</td>\n",
       "    </tr>\n",
       "    <tr>\n",
       "      <th>3</th>\n",
       "      <td>73</td>\n",
       "      <td>1</td>\n",
       "    </tr>\n",
       "    <tr>\n",
       "      <th>4</th>\n",
       "      <td>91</td>\n",
       "      <td>1</td>\n",
       "    </tr>\n",
       "  </tbody>\n",
       "</table>\n",
       "</div>"
      ],
      "text/plain": [
       "  features  rank\n",
       "0       33     1\n",
       "1      117     1\n",
       "2      217     1\n",
       "3       73     1\n",
       "4       91     1"
      ]
     },
     "execution_count": 110,
     "metadata": {},
     "output_type": "execute_result"
    }
   ],
   "source": [
    "feature_df = pd.DataFrame(train_df.drop(['id','target'],axis=1).columns.tolist(),columns = ['features'])\n",
    "feature_df['rank'] = boruta_selector.ranking_\n",
    "feature_df = feature_df.sort_values('rank',ascending=True).reset_index(drop=True)\n",
    "feature_df.head()"
   ]
  },
  {
   "cell_type": "code",
   "execution_count": 111,
   "metadata": {},
   "outputs": [],
   "source": [
    "columns_to_keep = feature_df.features[0:50]"
   ]
  },
  {
   "cell_type": "code",
   "execution_count": 112,
   "metadata": {},
   "outputs": [],
   "source": [
    "boruta_train = train_df[columns_to_keep]\n",
    "boruta_test = test_df[columns_to_keep]\n",
    "scaler = StandardScaler()\n",
    "x_train = scaler.fit_transform(boruta_train)\n",
    "x_test = scaler.transform(boruta_test)"
   ]
  },
  {
   "cell_type": "code",
   "execution_count": 113,
   "metadata": {},
   "outputs": [
    {
     "name": "stdout",
     "output_type": "stream",
     "text": [
      "CV mean score: 0.7412, std: 0.0995.\n"
     ]
    }
   ],
   "source": [
    "model = linear_model.LogisticRegression(class_weight='balanced', penalty='l1', C=0.1, solver='liblinear')\n",
    "oof_lr, prediction_lr, _ = train_model(x_train, x_test, y_train, params=None, model_type='sklearn', model=model)"
   ]
  },
  {
   "cell_type": "code",
   "execution_count": 114,
   "metadata": {},
   "outputs": [],
   "source": [
    "results = prediction_lr\n",
    "predictions = pd.DataFrame(results, columns = ['target'])\n",
    "ids = test_df['id']\n",
    "predictions = pd.concat([ids, predictions], axis = 1, sort=False)\n",
    "predictions.to_csv('dont_overfit_2_approach2.csv',index = False)"
   ]
  },
  {
   "cell_type": "markdown",
   "metadata": {},
   "source": [
    "This gives us 0.847 on the leaderboard. Nice! Let's see how reducing/increasing the dimensionality affects us."
   ]
  },
  {
   "cell_type": "code",
   "execution_count": 127,
   "metadata": {},
   "outputs": [],
   "source": [
    "def train_with_features(num):\n",
    "    columns_to_keep = feature_df.features[0:num]\n",
    "    boruta_train = train_df[columns_to_keep]\n",
    "    boruta_test = test_df[columns_to_keep]\n",
    "    scaler = StandardScaler()\n",
    "    x_train = scaler.fit_transform(boruta_train)\n",
    "    x_test = scaler.transform(boruta_test)\n",
    "    model = linear_model.LogisticRegression(class_weight='balanced', penalty='l1', C=0.1, solver='liblinear')\n",
    "    oof_lr, prediction_lr, scores = train_model(x_train, x_test, y_train, params=None, model_type='sklearn', model=model)\n",
    "    return prediction_lr, scores"
   ]
  },
  {
   "cell_type": "code",
   "execution_count": 145,
   "metadata": {},
   "outputs": [
    {
     "name": "stdout",
     "output_type": "stream",
     "text": [
      "1 features=>  CV mean score: 0.6756, std: 0.1044.\n",
      "2 features=>  CV mean score: 0.6669, std: 0.1049.\n",
      "3 features=>  CV mean score: 0.6969, std: 0.1070.\n",
      "4 features=>  CV mean score: 0.7012, std: 0.0825.\n",
      "5 features=>  CV mean score: 0.7331, std: 0.0843.\n",
      "6 features=>  CV mean score: 0.7363, std: 0.0847.\n",
      "7 features=>  CV mean score: 0.7650, std: 0.0733.\n",
      "8 features=>  CV mean score: 0.7731, std: 0.0918.\n",
      "9 features=>  CV mean score: 0.7787, std: 0.0680.\n",
      "10 features=>  CV mean score: 0.7744, std: 0.0812.\n",
      "11 features=>  CV mean score: 0.7594, std: 0.0912.\n",
      "12 features=>  CV mean score: 0.7644, std: 0.0833.\n",
      "13 features=>  CV mean score: 0.7613, std: 0.0850.\n",
      "14 features=>  CV mean score: 0.7725, std: 0.0771.\n",
      "15 features=>  CV mean score: 0.7694, std: 0.0720.\n",
      "16 features=>  CV mean score: 0.7681, std: 0.0722.\n",
      "17 features=>  CV mean score: 0.7569, std: 0.0742.\n",
      "18 features=>  CV mean score: 0.7569, std: 0.0742.\n",
      "19 features=>  CV mean score: 0.7569, std: 0.0742.\n",
      "20 features=>  CV mean score: 0.7569, std: 0.0742.\n",
      "21 features=>  CV mean score: 0.7600, std: 0.0752.\n",
      "22 features=>  CV mean score: 0.7631, std: 0.0649.\n",
      "23 features=>  CV mean score: 0.7631, std: 0.0649.\n",
      "24 features=>  CV mean score: 0.7681, std: 0.0837.\n",
      "25 features=>  CV mean score: 0.7631, std: 0.0914.\n",
      "26 features=>  CV mean score: 0.7606, std: 0.1035.\n",
      "27 features=>  CV mean score: 0.7606, std: 0.1035.\n",
      "28 features=>  CV mean score: 0.7575, std: 0.0977.\n",
      "29 features=>  CV mean score: 0.7512, std: 0.0939.\n",
      "30 features=>  CV mean score: 0.7512, std: 0.0939.\n",
      "31 features=>  CV mean score: 0.7669, std: 0.0935.\n",
      "32 features=>  CV mean score: 0.7669, std: 0.0935.\n",
      "33 features=>  CV mean score: 0.7525, std: 0.0957.\n",
      "34 features=>  CV mean score: 0.7588, std: 0.0933.\n",
      "35 features=>  CV mean score: 0.7588, std: 0.0933.\n",
      "36 features=>  CV mean score: 0.7588, std: 0.0933.\n",
      "37 features=>  CV mean score: 0.7525, std: 0.0978.\n",
      "38 features=>  CV mean score: 0.7525, std: 0.0978.\n",
      "39 features=>  CV mean score: 0.7525, std: 0.0978.\n",
      "40 features=>  CV mean score: 0.7556, std: 0.0925.\n",
      "41 features=>  CV mean score: 0.7556, std: 0.0925.\n",
      "42 features=>  CV mean score: 0.7463, std: 0.0997.\n",
      "43 features=>  CV mean score: 0.7463, std: 0.0997.\n",
      "44 features=>  CV mean score: 0.7463, std: 0.0997.\n",
      "45 features=>  CV mean score: 0.7463, std: 0.0997.\n",
      "46 features=>  CV mean score: 0.7431, std: 0.1005.\n",
      "47 features=>  CV mean score: 0.7431, std: 0.1005.\n",
      "48 features=>  CV mean score: 0.7431, std: 0.1005.\n",
      "49 features=>  CV mean score: 0.7412, std: 0.0995.\n",
      "50 features=>  CV mean score: 0.7412, std: 0.0995.\n",
      "51 features=>  CV mean score: 0.7412, std: 0.0995.\n",
      "52 features=>  CV mean score: 0.7412, std: 0.0995.\n",
      "53 features=>  CV mean score: 0.7319, std: 0.1031.\n",
      "54 features=>  CV mean score: 0.7269, std: 0.0984.\n",
      "55 features=>  CV mean score: 0.7444, std: 0.0883.\n",
      "56 features=>  CV mean score: 0.7444, std: 0.0883.\n",
      "57 features=>  CV mean score: 0.7363, std: 0.0925.\n",
      "58 features=>  CV mean score: 0.7363, std: 0.0925.\n",
      "59 features=>  CV mean score: 0.7363, std: 0.0925.\n",
      "60 features=>  CV mean score: 0.7363, std: 0.0925.\n",
      "61 features=>  CV mean score: 0.7363, std: 0.0925.\n",
      "62 features=>  CV mean score: 0.7363, std: 0.0925.\n",
      "63 features=>  CV mean score: 0.7238, std: 0.1309.\n",
      "64 features=>  CV mean score: 0.7225, std: 0.1199.\n",
      "65 features=>  CV mean score: 0.7225, std: 0.1199.\n",
      "66 features=>  CV mean score: 0.7225, std: 0.1199.\n",
      "67 features=>  CV mean score: 0.7225, std: 0.1199.\n",
      "68 features=>  CV mean score: 0.7225, std: 0.1199.\n",
      "69 features=>  CV mean score: 0.7225, std: 0.1199.\n",
      "70 features=>  CV mean score: 0.7225, std: 0.1199.\n",
      "71 features=>  CV mean score: 0.7225, std: 0.1199.\n",
      "72 features=>  CV mean score: 0.7225, std: 0.1199.\n",
      "73 features=>  CV mean score: 0.7225, std: 0.1199.\n",
      "74 features=>  CV mean score: 0.7225, std: 0.1199.\n",
      "75 features=>  CV mean score: 0.7225, std: 0.1199.\n",
      "76 features=>  CV mean score: 0.7225, std: 0.1199.\n",
      "77 features=>  CV mean score: 0.7225, std: 0.1199.\n",
      "78 features=>  CV mean score: 0.7225, std: 0.1199.\n",
      "79 features=>  CV mean score: 0.7225, std: 0.1199.\n",
      "80 features=>  CV mean score: 0.7225, std: 0.1199.\n",
      "81 features=>  CV mean score: 0.7256, std: 0.1188.\n",
      "82 features=>  CV mean score: 0.7256, std: 0.1188.\n",
      "83 features=>  CV mean score: 0.7175, std: 0.1248.\n",
      "84 features=>  CV mean score: 0.7175, std: 0.1248.\n",
      "85 features=>  CV mean score: 0.7206, std: 0.1255.\n",
      "86 features=>  CV mean score: 0.7206, std: 0.1255.\n",
      "87 features=>  CV mean score: 0.7206, std: 0.1255.\n",
      "88 features=>  CV mean score: 0.7144, std: 0.1232.\n",
      "89 features=>  CV mean score: 0.7144, std: 0.1232.\n",
      "90 features=>  CV mean score: 0.7144, std: 0.1232.\n",
      "91 features=>  CV mean score: 0.7175, std: 0.1239.\n",
      "92 features=>  CV mean score: 0.7175, std: 0.1239.\n",
      "93 features=>  CV mean score: 0.7175, std: 0.1239.\n",
      "94 features=>  CV mean score: 0.7175, std: 0.1239.\n",
      "95 features=>  CV mean score: 0.7175, std: 0.1239.\n",
      "96 features=>  CV mean score: 0.7175, std: 0.1239.\n",
      "97 features=>  CV mean score: 0.7175, std: 0.1239.\n",
      "98 features=>  CV mean score: 0.7175, std: 0.1239.\n",
      "99 features=>  CV mean score: 0.7175, std: 0.1239.\n",
      "100 features=>  CV mean score: 0.7175, std: 0.1239.\n"
     ]
    }
   ],
   "source": [
    "error_scores = []\n",
    "\n",
    "for i in range(1,101):\n",
    "    _,scores = train_with_features(i)\n",
    "    print(str(i) + \" features=>  \" +'CV mean score: {0:.4f}, std: {1:.4f}.'.format(np.mean(scores), np.std(scores)))\n",
    "    error_scores.append(np.std(scores))"
   ]
  },
  {
   "cell_type": "code",
   "execution_count": 146,
   "metadata": {},
   "outputs": [
    {
     "data": {
      "image/png": "[encoded data removed]",
      "text/plain": [
       "<Figure size 720x720 with 1 Axes>"
      ]
     },
     "metadata": {
      "needs_background": "light"
     },
     "output_type": "display_data"
    }
   ],
   "source": [
    "from matplotlib import pyplot as plt\n",
    "fig = plt.figure(figsize=(10,10))\n",
    "plt.scatter(range(1,101), error_scores)\n",
    "fig.suptitle('Analysis of # features and std error', fontsize=20)\n",
    "plt.xlabel('number of features', fontsize=8)\n",
    "plt.ylabel('Standard error', fontsize=8)\n",
    "plt.show()"
   ]
  },
  {
   "cell_type": "markdown",
   "metadata": {},
   "source": [
    "Note that as we reduce the dimensionality of top K features to keep, we see an increase in accuracy and standard error. While the CV shows us its average performance over our data set, the std, or standard error, shows us how far away the data points are from the regression line.\n",
    "\n",
    "This means as we reduce the dimensionality, the hyperplane the model needs to locate to create a decision boundary becomes easier, but as we are relying on less features we are also becoming prone to overfitting. E.g. we may be forcing the model to focus on very specific features to classify, thus failing to generalize."
   ]
  },
  {
   "cell_type": "code",
   "execution_count": 147,
   "metadata": {},
   "outputs": [],
   "source": [
    "def train_model(X, X_test, y, params, folds=folds, model_type='lgb', plot_feature_importance=False, averaging='usual', model=None):\n",
    "    oof = np.zeros(len(X))\n",
    "    prediction = np.zeros(len(X_test))\n",
    "    scores = []\n",
    "    feature_importance = pd.DataFrame()\n",
    "    for fold_n, (train_index, valid_index) in enumerate(folds.split(X, y)):\n",
    "        # print('Fold', fold_n, 'started at', time.ctime())\n",
    "        X_train, X_valid = X[train_index], X[valid_index]\n",
    "        y_train, y_valid = y[train_index], y[valid_index]\n",
    "        \n",
    "        if model_type == 'lgb':\n",
    "            train_data = lgb.Dataset(X_train, label=y_train)\n",
    "            valid_data = lgb.Dataset(X_valid, label=y_valid)\n",
    "            \n",
    "            model = lgb.train(params,\n",
    "                    train_data,\n",
    "                    num_boost_round=2000,\n",
    "                    valid_sets = [train_data, valid_data],\n",
    "                    verbose_eval=500,\n",
    "                    early_stopping_rounds = 200)\n",
    "            \n",
    "            y_pred_valid = model.predict(X_valid)\n",
    "            y_pred = model.predict(X_test, num_iteration=model.best_iteration_)\n",
    "            \n",
    "        if model_type == 'xgb':\n",
    "            train_data = xgb.DMatrix(data=X_train, label=y_train, feature_names=X_tr.columns)\n",
    "            valid_data = xgb.DMatrix(data=X_valid, label=y_valid, feature_names=X_tr.columns)\n",
    "\n",
    "            watchlist = [(train_data, 'train'), (valid_data, 'valid_data')]\n",
    "            model = xgb.train(dtrain=train_data, num_boost_round=20000, evals=watchlist, early_stopping_rounds=200, verbose_eval=500, params=params)\n",
    "            y_pred_valid = model.predict(xgb.DMatrix(X_valid, feature_names=X_tr.columns), ntree_limit=model.best_ntree_limit)\n",
    "            y_pred = model.predict(xgb.DMatrix(X_test, feature_names=X_tr.columns), ntree_limit=model.best_ntree_limit)\n",
    "        \n",
    "        if model_type == 'cat':\n",
    "            model = CatBoostClassifier(iterations=20000,  eval_metric='AUC', **params)\n",
    "            model.fit(X_train, y_train, eval_set=(X_valid, y_valid), cat_features=[], use_best_model=True, verbose=False)\n",
    "\n",
    "            y_pred_valid = model.predict(X_valid)\n",
    "            y_pred = model.predict(X_test)\n",
    "            \n",
    "            \n",
    "        if model_type == 'sklearn':\n",
    "            model = model\n",
    "            model.fit(X_train, y_train)\n",
    "            y_pred_valid = model.predict(X_valid).reshape(-1,)\n",
    "            score = roc_auc_score(y_valid, y_pred_valid)\n",
    "            # print(f'Fold {fold_n}. AUC: {score:.4f}.')\n",
    "            # print('')\n",
    "            \n",
    "            y_pred = model.predict_proba(X_test)[:, 1]\n",
    "            \n",
    "            \n",
    "        if model_type == 'glm':\n",
    "            model = sm.GLM(y_train, X_train, family=sm.families.Binomial())\n",
    "            model_results = model.fit()\n",
    "            model_results.predict(X_test)\n",
    "            y_pred_valid = model_results.predict(X_valid).reshape(-1,)\n",
    "            score = roc_auc_score(y_valid, y_pred_valid)\n",
    "            \n",
    "            y_pred = model_results.predict(X_test)\n",
    "        \n",
    "        oof[valid_index] = y_pred_valid.reshape(-1,)\n",
    "        scores.append(roc_auc_score(y_valid, y_pred_valid))\n",
    "\n",
    "        if averaging == 'usual':\n",
    "            prediction += y_pred\n",
    "        elif averaging == 'rank':\n",
    "            prediction += pd.Series(y_pred).rank().values  \n",
    "        \n",
    "        if model_type == 'lgb':\n",
    "            # feature importance\n",
    "            fold_importance = pd.DataFrame()\n",
    "            fold_importance[\"feature\"] = X.columns\n",
    "            fold_importance[\"importance\"] = model.feature_importances_\n",
    "            fold_importance[\"fold\"] = fold_n + 1\n",
    "            feature_importance = pd.concat([feature_importance, fold_importance], axis=0)\n",
    "\n",
    "    prediction /= n_fold\n",
    "    \n",
    "    print('CV mean score: {0:.4f}, std: {1:.4f}.'.format(np.mean(scores), np.std(scores)))\n",
    "    \n",
    "    if model_type == 'lgb':\n",
    "        feature_importance[\"importance\"] /= n_fold\n",
    "        if plot_feature_importance:\n",
    "            cols = feature_importance[[\"feature\", \"importance\"]].groupby(\"feature\").mean().sort_values(\n",
    "                by=\"importance\", ascending=False)[:50].index\n",
    "\n",
    "            best_features = feature_importance.loc[feature_importance.feature.isin(cols)]\n",
    "\n",
    "            plt.figure(figsize=(16, 12));\n",
    "            sns.barplot(x=\"importance\", y=\"feature\", data=best_features.sort_values(by=\"importance\", ascending=False));\n",
    "            plt.title('LGB Features (avg over folds)');\n",
    "        \n",
    "            return oof, prediction, feature_importance\n",
    "        return oof, prediction, scores\n",
    "    \n",
    "    else:\n",
    "        return oof, prediction, scores"
   ]
  },
  {
   "cell_type": "code",
   "execution_count": 154,
   "metadata": {},
   "outputs": [
    {
     "name": "stdout",
     "output_type": "stream",
     "text": [
      "CV mean score: 0.7631, std: 0.0649.\n"
     ]
    }
   ],
   "source": [
    "results,_ = train_with_features(23)\n",
    "predictions = pd.DataFrame(results, columns = ['target'])\n",
    "ids = test_df['id']\n",
    "predictions = pd.concat([ids, predictions], axis = 1, sort=False)\n",
    "predictions.to_csv('dont_overfit_2_approach2_23_features.csv',index = False)"
   ]
  },
  {
   "cell_type": "markdown",
   "metadata": {},
   "source": [
    "Unfortunately, this gives us a LB score of 0.846. This seems to tell us that reduction of dimensionality while maintaining the most important features help us train better in our validation, but does not necessarily help generalization."
   ]
  },
  {
   "cell_type": "code",
   "execution_count": 157,
   "metadata": {},
   "outputs": [],
   "source": [
    "def train_reduced_feat(num, model):\n",
    "    columns_to_keep = feature_df.features[0:num]\n",
    "    boruta_train = train_df[columns_to_keep]\n",
    "    boruta_test = test_df[columns_to_keep]\n",
    "    scaler = StandardScaler()\n",
    "    x_train = scaler.fit_transform(boruta_train)\n",
    "    x_test = scaler.transform(boruta_test)\n",
    "    oof_lr, prediction_lr, scores = train_model(x_train, x_test, y_train, params=None, model_type='sklearn', model=model)\n",
    "    return prediction_lr, scores"
   ]
  },
  {
   "cell_type": "code",
   "execution_count": 162,
   "metadata": {},
   "outputs": [
    {
     "name": "stdout",
     "output_type": "stream",
     "text": [
      "CV mean score: 0.7631, std: 0.0649.\n"
     ]
    }
   ],
   "source": [
    "log = linear_model.LogisticRegression(class_weight='balanced', penalty='l1', C=0.1, solver='liblinear')\n",
    "pred_log, _ = train_reduced_feat(23, log)"
   ]
  },
  {
   "cell_type": "code",
   "execution_count": 201,
   "metadata": {},
   "outputs": [
    {
     "name": "stdout",
     "output_type": "stream",
     "text": [
      "CV mean score: 0.6306, std: 0.1270.\n",
      "CV mean score: 0.6963, std: 0.1516.\n",
      "CV mean score: 0.7381, std: 0.1354.\n",
      "CV mean score: 0.7412, std: 0.1108.\n",
      "CV mean score: 0.7944, std: 0.1197.\n",
      "CV mean score: 0.7819, std: 0.1394.\n",
      "CV mean score: 0.7512, std: 0.1369.\n",
      "CV mean score: 0.7150, std: 0.1850.\n",
      "CV mean score: 0.7919, std: 0.1222.\n",
      "CV mean score: 0.7725, std: 0.1238.\n",
      "CV mean score: 0.7875, std: 0.1141.\n",
      "CV mean score: 0.7787, std: 0.1077.\n",
      "CV mean score: 0.8044, std: 0.1248.\n",
      "CV mean score: 0.7981, std: 0.1000.\n",
      "CV mean score: 0.8050, std: 0.1182.\n",
      "CV mean score: 0.8156, std: 0.1067.\n",
      "CV mean score: 0.8313, std: 0.1028.\n",
      "CV mean score: 0.8288, std: 0.0695.\n",
      "CV mean score: 0.7963, std: 0.0995.\n",
      "CV mean score: 0.8169, std: 0.0885.\n",
      "CV mean score: 0.8125, std: 0.0971.\n",
      "CV mean score: 0.8137, std: 0.1221.\n",
      "CV mean score: 0.8169, std: 0.1266.\n",
      "CV mean score: 0.8088, std: 0.1208.\n",
      "CV mean score: 0.8056, std: 0.1104.\n",
      "CV mean score: 0.7800, std: 0.1011.\n",
      "CV mean score: 0.8137, std: 0.1154.\n",
      "CV mean score: 0.8200, std: 0.1030.\n",
      "CV mean score: 0.8088, std: 0.1236.\n",
      "CV mean score: 0.8094, std: 0.1135.\n",
      "CV mean score: 0.8019, std: 0.1169.\n",
      "CV mean score: 0.8244, std: 0.1295.\n",
      "CV mean score: 0.8344, std: 0.1230.\n",
      "CV mean score: 0.8412, std: 0.1326.\n",
      "CV mean score: 0.8313, std: 0.1301.\n",
      "CV mean score: 0.8313, std: 0.1301.\n",
      "CV mean score: 0.8244, std: 0.1224.\n",
      "CV mean score: 0.8294, std: 0.1321.\n",
      "CV mean score: 0.8150, std: 0.1293.\n",
      "CV mean score: 0.8181, std: 0.1226.\n",
      "CV mean score: 0.8181, std: 0.1206.\n",
      "CV mean score: 0.8106, std: 0.1106.\n",
      "CV mean score: 0.8137, std: 0.1132.\n",
      "CV mean score: 0.8119, std: 0.1211.\n",
      "CV mean score: 0.8088, std: 0.1149.\n",
      "CV mean score: 0.8056, std: 0.1068.\n",
      "CV mean score: 0.8137, std: 0.1173.\n",
      "CV mean score: 0.7994, std: 0.1081.\n",
      "CV mean score: 0.8106, std: 0.1112.\n",
      "CV mean score: 0.8106, std: 0.1296.\n",
      "CV mean score: 0.8044, std: 0.1191.\n",
      "CV mean score: 0.8012, std: 0.1196.\n",
      "CV mean score: 0.7963, std: 0.1216.\n",
      "CV mean score: 0.7963, std: 0.1385.\n",
      "CV mean score: 0.7850, std: 0.1400.\n",
      "CV mean score: 0.7800, std: 0.1241.\n",
      "CV mean score: 0.7750, std: 0.1288.\n",
      "CV mean score: 0.7675, std: 0.1247.\n",
      "CV mean score: 0.7706, std: 0.1238.\n",
      "CV mean score: 0.7838, std: 0.1246.\n",
      "CV mean score: 0.7725, std: 0.1293.\n",
      "CV mean score: 0.7706, std: 0.1205.\n",
      "CV mean score: 0.7756, std: 0.1310.\n",
      "CV mean score: 0.7712, std: 0.1093.\n",
      "CV mean score: 0.7550, std: 0.1070.\n",
      "CV mean score: 0.7531, std: 0.1033.\n",
      "CV mean score: 0.7562, std: 0.1048.\n",
      "CV mean score: 0.7531, std: 0.1022.\n",
      "CV mean score: 0.7594, std: 0.1055.\n",
      "CV mean score: 0.7737, std: 0.1145.\n",
      "CV mean score: 0.7662, std: 0.1107.\n",
      "CV mean score: 0.7662, std: 0.1041.\n",
      "CV mean score: 0.7706, std: 0.1209.\n",
      "CV mean score: 0.7787, std: 0.1113.\n",
      "CV mean score: 0.7725, std: 0.1092.\n"
     ]
    }
   ],
   "source": [
    "svc = SVC(C=1.5, kernel='rbf', probability = True, gamma = 'auto')\n",
    "error_scores_svc = []\n",
    "for i in range(1,151,2):\n",
    "    pred_svc, scores = train_reduced_feat(i,svc)\n",
    "    error_scores_svc.append(np.std(scores))"
   ]
  },
  {
   "cell_type": "code",
   "execution_count": 202,
   "metadata": {},
   "outputs": [
    {
     "data": {
      "image/png": "[encoded data removed]",
      "text/plain": [
       "<Figure size 720x720 with 1 Axes>"
      ]
     },
     "metadata": {
      "needs_background": "light"
     },
     "output_type": "display_data"
    }
   ],
   "source": [
    "from matplotlib import pyplot as plt\n",
    "fig = plt.figure(figsize=(10,10))\n",
    "plt.scatter(range(1,151,2), error_scores_svc)\n",
    "fig.suptitle('Analysis of # features and std error [SVM]', fontsize=20)\n",
    "plt.xlabel('number of features', fontsize=8)\n",
    "plt.ylabel('Standard error', fontsize=8)\n",
    "plt.show()"
   ]
  },
  {
   "cell_type": "markdown",
   "metadata": {},
   "source": [
    "Let's blend the two models"
   ]
  },
  {
   "cell_type": "code",
   "execution_count": 187,
   "metadata": {},
   "outputs": [],
   "source": [
    "blend = (pred_log + pred_svc) / 2\n",
    "predictions = pd.DataFrame(blend, columns = ['target'])\n",
    "ids = test_df['id']\n",
    "predictions = pd.concat([ids, predictions], axis = 1, sort=False)\n",
    "predictions.to_csv('dont_overfit_2_approach2_23_features_blend.csv',index = False)"
   ]
  },
  {
   "cell_type": "markdown",
   "metadata": {},
   "source": [
    "Oh no! This gave us a LB score of 0.833, so obviously our SVM model has significantly overfit, and that is possible as the std error of it is relatively higher"
   ]
  },
  {
   "cell_type": "code",
   "execution_count": null,
   "metadata": {},
   "outputs": [],
   "source": []
  }
 ],
 "metadata": {
  "kernelspec": {
   "display_name": "Python 3",
   "language": "python",
   "name": "python3"
  },
  "language_info": {
   "codemirror_mode": {
    "name": "ipython",
    "version": 3
   },
   "file_extension": ".py",
   "mimetype": "text/x-python",
   "name": "python",
   "nbconvert_exporter": "python",
   "pygments_lexer": "ipython3",
   "version": "3.6.7"
  }
 },
 "nbformat": 4,
 "nbformat_minor": 2
}
